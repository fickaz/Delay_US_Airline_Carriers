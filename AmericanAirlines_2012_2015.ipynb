{
 "cells": [
  {
   "cell_type": "code",
   "execution_count": 3,
   "metadata": {
    "collapsed": true
   },
   "outputs": [],
   "source": [
    "import numpy as np\n",
    "import pandas as pd\n",
    "import matplotlib.pyplot as pp\n",
    "import seaborn\n",
    "\n",
    "#This project explores the number of minutes of passenger plane delays\n",
    "#from 2012 to 2015\n",
    "#Data is obtained from Bureau of Transportation Statistics of USDOT\n",
    "#www.transtats.bts.gov"
   ]
  },
  {
   "cell_type": "code",
   "execution_count": 90,
   "metadata": {
    "collapsed": false
   },
   "outputs": [],
   "source": [
    "df = pd.read_csv('jfk_aa_2012_2015_ts.csv')\n",
    "#this csv file shows the delay in JFK by American Airlines from Jan12 to Dec15"
   ]
  },
  {
   "cell_type": "code",
   "execution_count": 91,
   "metadata": {
    "collapsed": false
   },
   "outputs": [
    {
     "data": {
      "text/html": [
       "<div>\n",
       "<table border=\"1\" class=\"dataframe\">\n",
       "  <thead>\n",
       "    <tr style=\"text-align: right;\">\n",
       "      <th></th>\n",
       "      <th>date</th>\n",
       "      <th>carrier_delay</th>\n",
       "      <th>weather_delay</th>\n",
       "      <th>nas_delay</th>\n",
       "      <th>security_delay</th>\n",
       "      <th>late_aircraft_delay</th>\n",
       "    </tr>\n",
       "  </thead>\n",
       "  <tbody>\n",
       "    <tr>\n",
       "      <th>0</th>\n",
       "      <td>2012-01-01</td>\n",
       "      <td>4135</td>\n",
       "      <td>67</td>\n",
       "      <td>2278</td>\n",
       "      <td>23</td>\n",
       "      <td>3276</td>\n",
       "    </tr>\n",
       "    <tr>\n",
       "      <th>1</th>\n",
       "      <td>2012-02-01</td>\n",
       "      <td>3478</td>\n",
       "      <td>201</td>\n",
       "      <td>885</td>\n",
       "      <td>0</td>\n",
       "      <td>3137</td>\n",
       "    </tr>\n",
       "    <tr>\n",
       "      <th>2</th>\n",
       "      <td>2012-03-01</td>\n",
       "      <td>4555</td>\n",
       "      <td>734</td>\n",
       "      <td>2804</td>\n",
       "      <td>42</td>\n",
       "      <td>5181</td>\n",
       "    </tr>\n",
       "    <tr>\n",
       "      <th>3</th>\n",
       "      <td>2012-04-01</td>\n",
       "      <td>2081</td>\n",
       "      <td>26</td>\n",
       "      <td>644</td>\n",
       "      <td>0</td>\n",
       "      <td>3421</td>\n",
       "    </tr>\n",
       "    <tr>\n",
       "      <th>4</th>\n",
       "      <td>2012-05-01</td>\n",
       "      <td>3617</td>\n",
       "      <td>415</td>\n",
       "      <td>4135</td>\n",
       "      <td>8</td>\n",
       "      <td>3809</td>\n",
       "    </tr>\n",
       "  </tbody>\n",
       "</table>\n",
       "</div>"
      ],
      "text/plain": [
       "         date  carrier_delay  weather_delay  nas_delay  security_delay  \\\n",
       "0  2012-01-01           4135             67       2278              23   \n",
       "1  2012-02-01           3478            201        885               0   \n",
       "2  2012-03-01           4555            734       2804              42   \n",
       "3  2012-04-01           2081             26        644               0   \n",
       "4  2012-05-01           3617            415       4135               8   \n",
       "\n",
       "   late_aircraft_delay  \n",
       "0                 3276  \n",
       "1                 3137  \n",
       "2                 5181  \n",
       "3                 3421  \n",
       "4                 3809  "
      ]
     },
     "execution_count": 91,
     "metadata": {},
     "output_type": "execute_result"
    }
   ],
   "source": [
    "df.head()"
   ]
  },
  {
   "cell_type": "code",
   "execution_count": 92,
   "metadata": {
    "collapsed": false
   },
   "outputs": [
    {
     "data": {
      "text/html": [
       "<div>\n",
       "<table border=\"1\" class=\"dataframe\">\n",
       "  <thead>\n",
       "    <tr style=\"text-align: right;\">\n",
       "      <th></th>\n",
       "      <th>date</th>\n",
       "      <th>carrier_delay</th>\n",
       "      <th>weather_delay</th>\n",
       "      <th>nas_delay</th>\n",
       "      <th>security_delay</th>\n",
       "      <th>late_aircraft_delay</th>\n",
       "    </tr>\n",
       "  </thead>\n",
       "  <tbody>\n",
       "    <tr>\n",
       "      <th>43</th>\n",
       "      <td>2015-08-01</td>\n",
       "      <td>6662</td>\n",
       "      <td>732</td>\n",
       "      <td>5604</td>\n",
       "      <td>84</td>\n",
       "      <td>7280</td>\n",
       "    </tr>\n",
       "    <tr>\n",
       "      <th>44</th>\n",
       "      <td>2015-09-01</td>\n",
       "      <td>5540</td>\n",
       "      <td>990</td>\n",
       "      <td>5951</td>\n",
       "      <td>0</td>\n",
       "      <td>2771</td>\n",
       "    </tr>\n",
       "    <tr>\n",
       "      <th>45</th>\n",
       "      <td>2015-10-01</td>\n",
       "      <td>5661</td>\n",
       "      <td>215</td>\n",
       "      <td>6957</td>\n",
       "      <td>9</td>\n",
       "      <td>3190</td>\n",
       "    </tr>\n",
       "    <tr>\n",
       "      <th>46</th>\n",
       "      <td>2015-11-01</td>\n",
       "      <td>6355</td>\n",
       "      <td>1126</td>\n",
       "      <td>4408</td>\n",
       "      <td>177</td>\n",
       "      <td>2911</td>\n",
       "    </tr>\n",
       "    <tr>\n",
       "      <th>47</th>\n",
       "      <td>2015-12-01</td>\n",
       "      <td>8164</td>\n",
       "      <td>1521</td>\n",
       "      <td>7463</td>\n",
       "      <td>21</td>\n",
       "      <td>9325</td>\n",
       "    </tr>\n",
       "  </tbody>\n",
       "</table>\n",
       "</div>"
      ],
      "text/plain": [
       "          date  carrier_delay  weather_delay  nas_delay  security_delay  \\\n",
       "43  2015-08-01           6662            732       5604              84   \n",
       "44  2015-09-01           5540            990       5951               0   \n",
       "45  2015-10-01           5661            215       6957               9   \n",
       "46  2015-11-01           6355           1126       4408             177   \n",
       "47  2015-12-01           8164           1521       7463              21   \n",
       "\n",
       "    late_aircraft_delay  \n",
       "43                 7280  \n",
       "44                 2771  \n",
       "45                 3190  \n",
       "46                 2911  \n",
       "47                 9325  "
      ]
     },
     "execution_count": 92,
     "metadata": {},
     "output_type": "execute_result"
    }
   ],
   "source": [
    "df.tail()"
   ]
  },
  {
   "cell_type": "code",
   "execution_count": 94,
   "metadata": {
    "collapsed": false
   },
   "outputs": [
    {
     "data": {
      "text/plain": [
       "4975.979166666667"
      ]
     },
     "execution_count": 94,
     "metadata": {},
     "output_type": "execute_result"
    }
   ],
   "source": [
    "df['carrier_delay'].mean()"
   ]
  },
  {
   "cell_type": "code",
   "execution_count": 95,
   "metadata": {
    "collapsed": false
   },
   "outputs": [
    {
     "data": {
      "text/html": [
       "<div>\n",
       "<table border=\"1\" class=\"dataframe\">\n",
       "  <thead>\n",
       "    <tr style=\"text-align: right;\">\n",
       "      <th></th>\n",
       "      <th>carrier_delay</th>\n",
       "      <th>weather_delay</th>\n",
       "      <th>nas_delay</th>\n",
       "      <th>security_delay</th>\n",
       "      <th>late_aircraft_delay</th>\n",
       "    </tr>\n",
       "  </thead>\n",
       "  <tbody>\n",
       "    <tr>\n",
       "      <th>count</th>\n",
       "      <td>48.000000</td>\n",
       "      <td>48.000000</td>\n",
       "      <td>48.000000</td>\n",
       "      <td>48.000000</td>\n",
       "      <td>48.000000</td>\n",
       "    </tr>\n",
       "    <tr>\n",
       "      <th>mean</th>\n",
       "      <td>4975.979167</td>\n",
       "      <td>564.104167</td>\n",
       "      <td>5617.354167</td>\n",
       "      <td>20.645833</td>\n",
       "      <td>5268.020833</td>\n",
       "    </tr>\n",
       "    <tr>\n",
       "      <th>std</th>\n",
       "      <td>1963.895494</td>\n",
       "      <td>425.961003</td>\n",
       "      <td>2922.233098</td>\n",
       "      <td>44.855555</td>\n",
       "      <td>2071.277830</td>\n",
       "    </tr>\n",
       "    <tr>\n",
       "      <th>min</th>\n",
       "      <td>1541.000000</td>\n",
       "      <td>26.000000</td>\n",
       "      <td>644.000000</td>\n",
       "      <td>0.000000</td>\n",
       "      <td>2206.000000</td>\n",
       "    </tr>\n",
       "    <tr>\n",
       "      <th>25%</th>\n",
       "      <td>3603.250000</td>\n",
       "      <td>225.500000</td>\n",
       "      <td>3238.750000</td>\n",
       "      <td>0.000000</td>\n",
       "      <td>3448.750000</td>\n",
       "    </tr>\n",
       "    <tr>\n",
       "      <th>50%</th>\n",
       "      <td>4550.000000</td>\n",
       "      <td>488.000000</td>\n",
       "      <td>5574.000000</td>\n",
       "      <td>0.000000</td>\n",
       "      <td>5108.500000</td>\n",
       "    </tr>\n",
       "    <tr>\n",
       "      <th>75%</th>\n",
       "      <td>6005.750000</td>\n",
       "      <td>740.250000</td>\n",
       "      <td>7306.250000</td>\n",
       "      <td>13.500000</td>\n",
       "      <td>6868.000000</td>\n",
       "    </tr>\n",
       "    <tr>\n",
       "      <th>max</th>\n",
       "      <td>10556.000000</td>\n",
       "      <td>1575.000000</td>\n",
       "      <td>12854.000000</td>\n",
       "      <td>177.000000</td>\n",
       "      <td>9832.000000</td>\n",
       "    </tr>\n",
       "  </tbody>\n",
       "</table>\n",
       "</div>"
      ],
      "text/plain": [
       "       carrier_delay  weather_delay     nas_delay  security_delay  \\\n",
       "count      48.000000      48.000000     48.000000       48.000000   \n",
       "mean     4975.979167     564.104167   5617.354167       20.645833   \n",
       "std      1963.895494     425.961003   2922.233098       44.855555   \n",
       "min      1541.000000      26.000000    644.000000        0.000000   \n",
       "25%      3603.250000     225.500000   3238.750000        0.000000   \n",
       "50%      4550.000000     488.000000   5574.000000        0.000000   \n",
       "75%      6005.750000     740.250000   7306.250000       13.500000   \n",
       "max     10556.000000    1575.000000  12854.000000      177.000000   \n",
       "\n",
       "       late_aircraft_delay  \n",
       "count            48.000000  \n",
       "mean           5268.020833  \n",
       "std            2071.277830  \n",
       "min            2206.000000  \n",
       "25%            3448.750000  \n",
       "50%            5108.500000  \n",
       "75%            6868.000000  \n",
       "max            9832.000000  "
      ]
     },
     "execution_count": 95,
     "metadata": {},
     "output_type": "execute_result"
    }
   ],
   "source": [
    "df.describe()"
   ]
  },
  {
   "cell_type": "code",
   "execution_count": 96,
   "metadata": {
    "collapsed": false
   },
   "outputs": [
    {
     "data": {
      "text/plain": [
       "carrier_delay          4975.979167\n",
       "weather_delay           564.104167\n",
       "nas_delay              5617.354167\n",
       "security_delay           20.645833\n",
       "late_aircraft_delay    5268.020833\n",
       "dtype: float64"
      ]
     },
     "execution_count": 96,
     "metadata": {},
     "output_type": "execute_result"
    }
   ],
   "source": [
    "df.mean()"
   ]
  },
  {
   "cell_type": "code",
   "execution_count": 97,
   "metadata": {
    "collapsed": false
   },
   "outputs": [
    {
     "data": {
      "text/plain": [
       "<matplotlib.axes._subplots.AxesSubplot at 0x1359ee3b5c0>"
      ]
     },
     "execution_count": 97,
     "metadata": {},
     "output_type": "execute_result"
    }
   ],
   "source": [
    "cd = df['carrier_delay']\n",
    "cd.plot()"
   ]
  },
  {
   "cell_type": "code",
   "execution_count": 98,
   "metadata": {
    "collapsed": false
   },
   "outputs": [
    {
     "data": {
      "text/plain": [
       "<matplotlib.axes._subplots.AxesSubplot at 0x1359ee3b5c0>"
      ]
     },
     "execution_count": 98,
     "metadata": {},
     "output_type": "execute_result"
    }
   ],
   "source": [
    "cd.hist()"
   ]
  },
  {
   "cell_type": "code",
   "execution_count": 99,
   "metadata": {
    "collapsed": false
   },
   "outputs": [],
   "source": [
    "%matplotlib inline"
   ]
  },
  {
   "cell_type": "code",
   "execution_count": 100,
   "metadata": {
    "collapsed": false
   },
   "outputs": [
    {
     "data": {
      "text/plain": [
       "<matplotlib.axes._subplots.AxesSubplot at 0x1359f0519e8>"
      ]
     },
     "execution_count": 100,
     "metadata": {},
     "output_type": "execute_result"
    },
    {
     "data": {
      "image/png": "[encoded data removed]",
      "text/plain": [
       "<matplotlib.figure.Figure at 0x1359ee1ec18>"
      ]
     },
     "metadata": {},
     "output_type": "display_data"
    }
   ],
   "source": [
    "cd.hist()"
   ]
  },
  {
   "cell_type": "code",
   "execution_count": 101,
   "metadata": {
    "collapsed": false
   },
   "outputs": [
    {
     "data": {
      "text/plain": [
       "<matplotlib.axes._subplots.AxesSubplot at 0x1359f1eda90>"
      ]
     },
     "execution_count": 101,
     "metadata": {},
     "output_type": "execute_result"
    },
    {
     "data": {
      "image/png": "[encoded data removed]",
      "text/plain": [
       "<matplotlib.figure.Figure at 0x1359f20a668>"
      ]
     },
     "metadata": {},
     "output_type": "display_data"
    }
   ],
   "source": [
    "cd.plot()"
   ]
  },
  {
   "cell_type": "code",
   "execution_count": 102,
   "metadata": {
    "collapsed": false
   },
   "outputs": [
    {
     "data": {
      "text/plain": [
       "<matplotlib.axes._subplots.AxesSubplot at 0x1359f2dff28>"
      ]
     },
     "execution_count": 102,
     "metadata": {},
     "output_type": "execute_result"
    },
    {
     "data": {
      "image/png": "[encoded data removed]",
      "text/plain": [
       "<matplotlib.figure.Figure at 0x1359efefd68>"
      ]
     },
     "metadata": {},
     "output_type": "display_data"
    }
   ],
   "source": [
    "df['weather_delay'].hist()"
   ]
  },
  {
   "cell_type": "code",
   "execution_count": 107,
   "metadata": {
    "collapsed": false
   },
   "outputs": [
    {
     "data": {
      "text/plain": [
       "<matplotlib.axes._subplots.AxesSubplot at 0x135a0ba9ba8>"
      ]
     },
     "execution_count": 107,
     "metadata": {},
     "output_type": "execute_result"
    },
    {
     "data": {
      "image/png": "[encoded data removed]",
      "text/plain": [
       "<matplotlib.figure.Figure at 0x135a0bc3358>"
      ]
     },
     "metadata": {},
     "output_type": "display_data"
    }
   ],
   "source": [
    "df.plot(x='date')"
   ]
  },
  {
   "cell_type": "code",
   "execution_count": 104,
   "metadata": {
    "collapsed": false
   },
   "outputs": [
    {
     "data": {
      "text/plain": [
       "<matplotlib.axes._subplots.AxesSubplot at 0x1359f5535c0>"
      ]
     },
     "execution_count": 104,
     "metadata": {},
     "output_type": "execute_result"
    },
    {
     "data": {
      "image/png": "[encoded data removed]",
      "text/plain": [
       "<matplotlib.figure.Figure at 0x1359f55c390>"
      ]
     },
     "metadata": {},
     "output_type": "display_data"
    }
   ],
   "source": [
    "df.plot.bar()"
   ]
  },
  {
   "cell_type": "code",
   "execution_count": 112,
   "metadata": {
    "collapsed": false
   },
   "outputs": [
    {
     "data": {
      "text/plain": [
       "<matplotlib.axes._subplots.AxesSubplot at 0x135a0d71588>"
      ]
     },
     "execution_count": 112,
     "metadata": {},
     "output_type": "execute_result"
    },
    {
     "data": {
      "image/png": "[encoded data removed]",
      "text/plain": [
       "<matplotlib.figure.Figure at 0x135a0e550f0>"
      ]
     },
     "metadata": {},
     "output_type": "display_data"
    }
   ],
   "source": [
    "df.boxplot(column='late_aircraft_delay', return_type='axes')"
   ]
  },
  {
   "cell_type": "code",
   "execution_count": 119,
   "metadata": {
    "collapsed": false
   },
   "outputs": [],
   "source": [
    "#Let's look at AA performance at all airports (including JFK) in 2015. \n",
    "#airports will be categorical values; this means this data cannot be interpreted as time series\n",
    "df1 = pd.read_csv('2015_aa.csv')\n",
    "df1.head()\n",
    "del(df2)"
   ]
  },
  {
   "cell_type": "code",
   "execution_count": 120,
   "metadata": {
    "collapsed": false
   },
   "outputs": [
    {
     "data": {
      "text/html": [
       "<div>\n",
       "<table border=\"1\" class=\"dataframe\">\n",
       "  <thead>\n",
       "    <tr style=\"text-align: right;\">\n",
       "      <th></th>\n",
       "      <th>year</th>\n",
       "      <th>month</th>\n",
       "      <th>carrier</th>\n",
       "      <th>airport</th>\n",
       "      <th>carrier_delay</th>\n",
       "      <th>weather_delay</th>\n",
       "      <th>nas_delay</th>\n",
       "      <th>security_delay</th>\n",
       "      <th>late_aircraft_delay</th>\n",
       "    </tr>\n",
       "  </thead>\n",
       "  <tbody>\n",
       "    <tr>\n",
       "      <th>0</th>\n",
       "      <td>2015</td>\n",
       "      <td>1</td>\n",
       "      <td>AA</td>\n",
       "      <td>JFK</td>\n",
       "      <td>5273</td>\n",
       "      <td>999</td>\n",
       "      <td>6358</td>\n",
       "      <td>0</td>\n",
       "      <td>7425</td>\n",
       "    </tr>\n",
       "    <tr>\n",
       "      <th>1</th>\n",
       "      <td>2015</td>\n",
       "      <td>1</td>\n",
       "      <td>AA</td>\n",
       "      <td>LAX</td>\n",
       "      <td>10914</td>\n",
       "      <td>1460</td>\n",
       "      <td>3293</td>\n",
       "      <td>42</td>\n",
       "      <td>9552</td>\n",
       "    </tr>\n",
       "    <tr>\n",
       "      <th>2</th>\n",
       "      <td>2015</td>\n",
       "      <td>1</td>\n",
       "      <td>AA</td>\n",
       "      <td>DFW</td>\n",
       "      <td>66714</td>\n",
       "      <td>5055</td>\n",
       "      <td>24137</td>\n",
       "      <td>123</td>\n",
       "      <td>71284</td>\n",
       "    </tr>\n",
       "    <tr>\n",
       "      <th>3</th>\n",
       "      <td>2015</td>\n",
       "      <td>1</td>\n",
       "      <td>AA</td>\n",
       "      <td>OGG</td>\n",
       "      <td>1207</td>\n",
       "      <td>0</td>\n",
       "      <td>188</td>\n",
       "      <td>0</td>\n",
       "      <td>381</td>\n",
       "    </tr>\n",
       "    <tr>\n",
       "      <th>4</th>\n",
       "      <td>2015</td>\n",
       "      <td>1</td>\n",
       "      <td>AA</td>\n",
       "      <td>HNL</td>\n",
       "      <td>2602</td>\n",
       "      <td>0</td>\n",
       "      <td>523</td>\n",
       "      <td>0</td>\n",
       "      <td>1050</td>\n",
       "    </tr>\n",
       "  </tbody>\n",
       "</table>\n",
       "</div>"
      ],
      "text/plain": [
       "   year  month carrier airport  carrier_delay  weather_delay  nas_delay  \\\n",
       "0  2015      1      AA     JFK           5273            999       6358   \n",
       "1  2015      1      AA     LAX          10914           1460       3293   \n",
       "2  2015      1      AA     DFW          66714           5055      24137   \n",
       "3  2015      1      AA     OGG           1207              0        188   \n",
       "4  2015      1      AA     HNL           2602              0        523   \n",
       "\n",
       "   security_delay  late_aircraft_delay  \n",
       "0               0                 7425  \n",
       "1              42                 9552  \n",
       "2             123                71284  \n",
       "3               0                  381  \n",
       "4               0                 1050  "
      ]
     },
     "execution_count": 120,
     "metadata": {},
     "output_type": "execute_result"
    }
   ],
   "source": [
    "df1.head()"
   ]
  },
  {
   "cell_type": "code",
   "execution_count": 122,
   "metadata": {
    "collapsed": false
   },
   "outputs": [
    {
     "data": {
      "text/html": [
       "<div>\n",
       "<table border=\"1\" class=\"dataframe\">\n",
       "  <thead>\n",
       "    <tr style=\"text-align: right;\">\n",
       "      <th></th>\n",
       "      <th>year</th>\n",
       "      <th>month</th>\n",
       "      <th>carrier_delay</th>\n",
       "      <th>weather_delay</th>\n",
       "      <th>nas_delay</th>\n",
       "      <th>security_delay</th>\n",
       "      <th>late_aircraft_delay</th>\n",
       "    </tr>\n",
       "  </thead>\n",
       "  <tbody>\n",
       "    <tr>\n",
       "      <th>count</th>\n",
       "      <td>1006.0</td>\n",
       "      <td>1006.000000</td>\n",
       "      <td>1006.000000</td>\n",
       "      <td>1006.000000</td>\n",
       "      <td>1006.000000</td>\n",
       "      <td>1006.000000</td>\n",
       "      <td>1006.000000</td>\n",
       "    </tr>\n",
       "    <tr>\n",
       "      <th>mean</th>\n",
       "      <td>2015.0</td>\n",
       "      <td>6.662028</td>\n",
       "      <td>2737.568588</td>\n",
       "      <td>464.632207</td>\n",
       "      <td>1750.060636</td>\n",
       "      <td>16.061630</td>\n",
       "      <td>2816.403579</td>\n",
       "    </tr>\n",
       "    <tr>\n",
       "      <th>std</th>\n",
       "      <td>0.0</td>\n",
       "      <td>3.480877</td>\n",
       "      <td>6463.911930</td>\n",
       "      <td>1156.794402</td>\n",
       "      <td>4210.322621</td>\n",
       "      <td>45.323274</td>\n",
       "      <td>7169.079200</td>\n",
       "    </tr>\n",
       "    <tr>\n",
       "      <th>min</th>\n",
       "      <td>2015.0</td>\n",
       "      <td>1.000000</td>\n",
       "      <td>0.000000</td>\n",
       "      <td>0.000000</td>\n",
       "      <td>0.000000</td>\n",
       "      <td>0.000000</td>\n",
       "      <td>0.000000</td>\n",
       "    </tr>\n",
       "    <tr>\n",
       "      <th>25%</th>\n",
       "      <td>2015.0</td>\n",
       "      <td>4.000000</td>\n",
       "      <td>382.250000</td>\n",
       "      <td>13.250000</td>\n",
       "      <td>102.250000</td>\n",
       "      <td>0.000000</td>\n",
       "      <td>330.000000</td>\n",
       "    </tr>\n",
       "    <tr>\n",
       "      <th>50%</th>\n",
       "      <td>2015.0</td>\n",
       "      <td>7.000000</td>\n",
       "      <td>951.500000</td>\n",
       "      <td>150.500000</td>\n",
       "      <td>350.000000</td>\n",
       "      <td>0.000000</td>\n",
       "      <td>870.000000</td>\n",
       "    </tr>\n",
       "    <tr>\n",
       "      <th>75%</th>\n",
       "      <td>2015.0</td>\n",
       "      <td>10.000000</td>\n",
       "      <td>2269.500000</td>\n",
       "      <td>482.750000</td>\n",
       "      <td>1016.000000</td>\n",
       "      <td>6.000000</td>\n",
       "      <td>2213.000000</td>\n",
       "    </tr>\n",
       "    <tr>\n",
       "      <th>max</th>\n",
       "      <td>2015.0</td>\n",
       "      <td>12.000000</td>\n",
       "      <td>67562.000000</td>\n",
       "      <td>17589.000000</td>\n",
       "      <td>43634.000000</td>\n",
       "      <td>372.000000</td>\n",
       "      <td>71284.000000</td>\n",
       "    </tr>\n",
       "  </tbody>\n",
       "</table>\n",
       "</div>"
      ],
      "text/plain": [
       "         year        month  carrier_delay  weather_delay     nas_delay  \\\n",
       "count  1006.0  1006.000000    1006.000000    1006.000000   1006.000000   \n",
       "mean   2015.0     6.662028    2737.568588     464.632207   1750.060636   \n",
       "std       0.0     3.480877    6463.911930    1156.794402   4210.322621   \n",
       "min    2015.0     1.000000       0.000000       0.000000      0.000000   \n",
       "25%    2015.0     4.000000     382.250000      13.250000    102.250000   \n",
       "50%    2015.0     7.000000     951.500000     150.500000    350.000000   \n",
       "75%    2015.0    10.000000    2269.500000     482.750000   1016.000000   \n",
       "max    2015.0    12.000000   67562.000000   17589.000000  43634.000000   \n",
       "\n",
       "       security_delay  late_aircraft_delay  \n",
       "count     1006.000000          1006.000000  \n",
       "mean        16.061630          2816.403579  \n",
       "std         45.323274          7169.079200  \n",
       "min          0.000000             0.000000  \n",
       "25%          0.000000           330.000000  \n",
       "50%          0.000000           870.000000  \n",
       "75%          6.000000          2213.000000  \n",
       "max        372.000000         71284.000000  "
      ]
     },
     "execution_count": 122,
     "metadata": {},
     "output_type": "execute_result"
    }
   ],
   "source": [
    "df1.describe()"
   ]
  },
  {
   "cell_type": "code",
   "execution_count": 133,
   "metadata": {
    "collapsed": false
   },
   "outputs": [
    {
     "data": {
      "text/plain": [
       "year                   2015.000000\n",
       "month                     6.662028\n",
       "carrier_delay          2737.568588\n",
       "weather_delay           464.632207\n",
       "nas_delay              1750.060636\n",
       "security_delay           16.061630\n",
       "late_aircraft_delay    2816.403579\n",
       "dtype: float64"
      ]
     },
     "execution_count": 133,
     "metadata": {},
     "output_type": "execute_result"
    }
   ],
   "source": [
    "df1.mean()"
   ]
  },
  {
   "cell_type": "code",
   "execution_count": 140,
   "metadata": {
    "collapsed": false
   },
   "outputs": [],
   "source": [
    "df2 = df1.loc[:,['airport', 'carrier_delay','weather_delay','nas_delay',\n",
    "          'security_delay','late_aircraft_delay']]"
   ]
  },
  {
   "cell_type": "code",
   "execution_count": 141,
   "metadata": {
    "collapsed": false
   },
   "outputs": [
    {
     "data": {
      "text/plain": [
       "<matplotlib.axes._subplots.AxesSubplot at 0x135a12fc278>"
      ]
     },
     "execution_count": 141,
     "metadata": {},
     "output_type": "execute_result"
    },
    {
     "data": {
      "image/png": "[encoded data removed]",
      "text/plain": [
       "<matplotlib.figure.Figure at 0x135a12e61d0>"
      ]
     },
     "metadata": {},
     "output_type": "display_data"
    }
   ],
   "source": [
    "df2.plot(x='airport')"
   ]
  },
  {
   "cell_type": "code",
   "execution_count": 143,
   "metadata": {
    "collapsed": false
   },
   "outputs": [
    {
     "data": {
      "text/plain": [
       "<matplotlib.axes._subplots.AxesSubplot at 0x135a24a4eb8>"
      ]
     },
     "execution_count": 143,
     "metadata": {},
     "output_type": "execute_result"
    },
    {
     "data": {
      "image/png": "[encoded data removed]",
      "text/plain": [
       "<matplotlib.figure.Figure at 0x135a2510b38>"
      ]
     },
     "metadata": {},
     "output_type": "display_data"
    }
   ],
   "source": [
    "df2.plot(x='airport', y='weather_delay')"
   ]
  },
  {
   "cell_type": "code",
   "execution_count": 153,
   "metadata": {
    "collapsed": false
   },
   "outputs": [
    {
     "name": "stdout",
     "output_type": "stream",
     "text": [
      "     airport  weather_delay\n",
      "0        JFK            999\n",
      "1        LAX           1460\n",
      "2        DFW           5055\n",
      "3        OGG              0\n",
      "4        HNL              0\n",
      "5        SFO            761\n",
      "6        ATL              8\n",
      "7        BOS           1079\n",
      "8        ONT             88\n",
      "9        DCA            693\n",
      "10       LAS            749\n",
      "11       PHX            577\n",
      "12       IAD              3\n",
      "13       JAX              0\n",
      "14       MIA           2786\n",
      "15       TPA            276\n",
      "16       PHL             11\n",
      "17       SJU            466\n",
      "18       HDN              0\n",
      "19       SAN            239\n",
      "20       ORD           1272\n",
      "21       SEA            407\n",
      "22       DTW             10\n",
      "23       SJC            143\n",
      "24       SLC              0\n",
      "25       KOA              0\n",
      "26       MCO            413\n",
      "27       DEN            389\n",
      "28       STL            283\n",
      "29       JAC              5\n",
      "...      ...            ...\n",
      "976      JAC            187\n",
      "977      MFE              0\n",
      "978      ONT            378\n",
      "979      DAY             35\n",
      "980      CLE            118\n",
      "981      SDF             69\n",
      "982      PIT             43\n",
      "983      OMA            111\n",
      "984      MKE             67\n",
      "985      HDN            176\n",
      "986      CMH            604\n",
      "987      MTJ              0\n",
      "988      GUC              0\n",
      "989      MEM             29\n",
      "990      BDL             48\n",
      "991      FAT             95\n",
      "992      OAK              0\n",
      "993      BUF             24\n",
      "994      PVD             56\n",
      "995      ALB             15\n",
      "996      SYR              0\n",
      "997      PWM              0\n",
      "998      GSO              0\n",
      "999      ROC              0\n",
      "1000     CHS              0\n",
      "1001     ILM              0\n",
      "1002     MDT              0\n",
      "1003     BOI             63\n",
      "1004     ANC              0\n",
      "1005     GEG              0\n",
      "\n",
      "[1006 rows x 2 columns]\n"
     ]
    }
   ],
   "source": [
    "print(df2.loc[:,['airport','weather_delay']])"
   ]
  },
  {
   "cell_type": "code",
   "execution_count": 155,
   "metadata": {
    "collapsed": false
   },
   "outputs": [],
   "source": [
    "df_weather_delay=df2.loc[:,['airport','weather_delay']]"
   ]
  },
  {
   "cell_type": "code",
   "execution_count": 167,
   "metadata": {
    "collapsed": false
   },
   "outputs": [
    {
     "name": "stderr",
     "output_type": "stream",
     "text": [
      "C:\\Users\\mdtar001\\Anaconda3\\lib\\site-packages\\ipykernel\\__main__.py:1: FutureWarning: sort(columns=....) is deprecated, use sort_values(by=.....)\n",
      "  if __name__ == '__main__':\n"
     ]
    },
    {
     "data": {
      "text/html": [
       "<div>\n",
       "<table border=\"1\" class=\"dataframe\">\n",
       "  <thead>\n",
       "    <tr style=\"text-align: right;\">\n",
       "      <th></th>\n",
       "      <th>airport</th>\n",
       "      <th>weather_delay</th>\n",
       "    </tr>\n",
       "  </thead>\n",
       "  <tbody>\n",
       "    <tr>\n",
       "      <th>324</th>\n",
       "      <td>DFW</td>\n",
       "      <td>17589</td>\n",
       "    </tr>\n",
       "    <tr>\n",
       "      <th>245</th>\n",
       "      <td>DFW</td>\n",
       "      <td>14870</td>\n",
       "    </tr>\n",
       "    <tr>\n",
       "      <th>401</th>\n",
       "      <td>DFW</td>\n",
       "      <td>11292</td>\n",
       "    </tr>\n",
       "    <tr>\n",
       "      <th>83</th>\n",
       "      <td>DFW</td>\n",
       "      <td>10408</td>\n",
       "    </tr>\n",
       "    <tr>\n",
       "      <th>738</th>\n",
       "      <td>DFW</td>\n",
       "      <td>9717</td>\n",
       "    </tr>\n",
       "    <tr>\n",
       "      <th>831</th>\n",
       "      <td>DFW</td>\n",
       "      <td>8400</td>\n",
       "    </tr>\n",
       "    <tr>\n",
       "      <th>916</th>\n",
       "      <td>DFW</td>\n",
       "      <td>7053</td>\n",
       "    </tr>\n",
       "    <tr>\n",
       "      <th>565</th>\n",
       "      <td>DFW</td>\n",
       "      <td>5743</td>\n",
       "    </tr>\n",
       "    <tr>\n",
       "      <th>478</th>\n",
       "      <td>DFW</td>\n",
       "      <td>5467</td>\n",
       "    </tr>\n",
       "    <tr>\n",
       "      <th>2</th>\n",
       "      <td>DFW</td>\n",
       "      <td>5055</td>\n",
       "    </tr>\n",
       "    <tr>\n",
       "      <th>592</th>\n",
       "      <td>CLT</td>\n",
       "      <td>4349</td>\n",
       "    </tr>\n",
       "    <tr>\n",
       "      <th>94</th>\n",
       "      <td>MIA</td>\n",
       "      <td>4309</td>\n",
       "    </tr>\n",
       "    <tr>\n",
       "      <th>163</th>\n",
       "      <td>DFW</td>\n",
       "      <td>4119</td>\n",
       "    </tr>\n",
       "    <tr>\n",
       "      <th>82</th>\n",
       "      <td>LAX</td>\n",
       "      <td>3997</td>\n",
       "    </tr>\n",
       "    <tr>\n",
       "      <th>97</th>\n",
       "      <td>ORD</td>\n",
       "      <td>3834</td>\n",
       "    </tr>\n",
       "    <tr>\n",
       "      <th>826</th>\n",
       "      <td>ORD</td>\n",
       "      <td>3272</td>\n",
       "    </tr>\n",
       "    <tr>\n",
       "      <th>574</th>\n",
       "      <td>MIA</td>\n",
       "      <td>3223</td>\n",
       "    </tr>\n",
       "    <tr>\n",
       "      <th>411</th>\n",
       "      <td>MIA</td>\n",
       "      <td>3012</td>\n",
       "    </tr>\n",
       "    <tr>\n",
       "      <th>335</th>\n",
       "      <td>LAX</td>\n",
       "      <td>2992</td>\n",
       "    </tr>\n",
       "    <tr>\n",
       "      <th>410</th>\n",
       "      <td>ORD</td>\n",
       "      <td>2977</td>\n",
       "    </tr>\n",
       "  </tbody>\n",
       "</table>\n",
       "</div>"
      ],
      "text/plain": [
       "    airport  weather_delay\n",
       "324     DFW          17589\n",
       "245     DFW          14870\n",
       "401     DFW          11292\n",
       "83      DFW          10408\n",
       "738     DFW           9717\n",
       "831     DFW           8400\n",
       "916     DFW           7053\n",
       "565     DFW           5743\n",
       "478     DFW           5467\n",
       "2       DFW           5055\n",
       "592     CLT           4349\n",
       "94      MIA           4309\n",
       "163     DFW           4119\n",
       "82      LAX           3997\n",
       "97      ORD           3834\n",
       "826     ORD           3272\n",
       "574     MIA           3223\n",
       "411     MIA           3012\n",
       "335     LAX           2992\n",
       "410     ORD           2977"
      ]
     },
     "execution_count": 167,
     "metadata": {},
     "output_type": "execute_result"
    }
   ],
   "source": [
    "df_weather_delay.sort('weather_delay', ascending=False)[:20]\n",
    "#all weather delays occur mostly at DFW. \n",
    "#but which months? now let us go back to the original data frame\n",
    "\n",
    "\n",
    "    "
   ]
  },
  {
   "cell_type": "code",
   "execution_count": 172,
   "metadata": {
    "collapsed": false,
    "scrolled": true
   },
   "outputs": [
    {
     "name": "stderr",
     "output_type": "stream",
     "text": [
      "C:\\Users\\mdtar001\\Anaconda3\\lib\\site-packages\\ipykernel\\__main__.py:1: FutureWarning: sort(columns=....) is deprecated, use sort_values(by=.....)\n",
      "  if __name__ == '__main__':\n"
     ]
    },
    {
     "data": {
      "text/html": [
       "<div>\n",
       "<table border=\"1\" class=\"dataframe\">\n",
       "  <thead>\n",
       "    <tr style=\"text-align: right;\">\n",
       "      <th></th>\n",
       "      <th>year</th>\n",
       "      <th>month</th>\n",
       "      <th>carrier</th>\n",
       "      <th>airport</th>\n",
       "      <th>carrier_delay</th>\n",
       "      <th>weather_delay</th>\n",
       "      <th>nas_delay</th>\n",
       "      <th>security_delay</th>\n",
       "      <th>late_aircraft_delay</th>\n",
       "    </tr>\n",
       "  </thead>\n",
       "  <tbody>\n",
       "    <tr>\n",
       "      <th>324</th>\n",
       "      <td>2015</td>\n",
       "      <td>5</td>\n",
       "      <td>AA</td>\n",
       "      <td>DFW</td>\n",
       "      <td>46365</td>\n",
       "      <td>17589</td>\n",
       "      <td>36820</td>\n",
       "      <td>85</td>\n",
       "      <td>61054</td>\n",
       "    </tr>\n",
       "    <tr>\n",
       "      <th>245</th>\n",
       "      <td>2015</td>\n",
       "      <td>4</td>\n",
       "      <td>AA</td>\n",
       "      <td>DFW</td>\n",
       "      <td>48739</td>\n",
       "      <td>14870</td>\n",
       "      <td>43634</td>\n",
       "      <td>94</td>\n",
       "      <td>61330</td>\n",
       "    </tr>\n",
       "    <tr>\n",
       "      <th>401</th>\n",
       "      <td>2015</td>\n",
       "      <td>6</td>\n",
       "      <td>AA</td>\n",
       "      <td>DFW</td>\n",
       "      <td>67562</td>\n",
       "      <td>11292</td>\n",
       "      <td>26810</td>\n",
       "      <td>194</td>\n",
       "      <td>67744</td>\n",
       "    </tr>\n",
       "    <tr>\n",
       "      <th>83</th>\n",
       "      <td>2015</td>\n",
       "      <td>2</td>\n",
       "      <td>AA</td>\n",
       "      <td>DFW</td>\n",
       "      <td>45816</td>\n",
       "      <td>10408</td>\n",
       "      <td>30432</td>\n",
       "      <td>60</td>\n",
       "      <td>49773</td>\n",
       "    </tr>\n",
       "    <tr>\n",
       "      <th>738</th>\n",
       "      <td>2015</td>\n",
       "      <td>10</td>\n",
       "      <td>AA</td>\n",
       "      <td>DFW</td>\n",
       "      <td>39490</td>\n",
       "      <td>9717</td>\n",
       "      <td>27652</td>\n",
       "      <td>137</td>\n",
       "      <td>43036</td>\n",
       "    </tr>\n",
       "    <tr>\n",
       "      <th>831</th>\n",
       "      <td>2015</td>\n",
       "      <td>11</td>\n",
       "      <td>AA</td>\n",
       "      <td>DFW</td>\n",
       "      <td>42367</td>\n",
       "      <td>8400</td>\n",
       "      <td>24098</td>\n",
       "      <td>214</td>\n",
       "      <td>49570</td>\n",
       "    </tr>\n",
       "    <tr>\n",
       "      <th>916</th>\n",
       "      <td>2015</td>\n",
       "      <td>12</td>\n",
       "      <td>AA</td>\n",
       "      <td>DFW</td>\n",
       "      <td>50292</td>\n",
       "      <td>7053</td>\n",
       "      <td>23437</td>\n",
       "      <td>356</td>\n",
       "      <td>50497</td>\n",
       "    </tr>\n",
       "    <tr>\n",
       "      <th>565</th>\n",
       "      <td>2015</td>\n",
       "      <td>8</td>\n",
       "      <td>AA</td>\n",
       "      <td>DFW</td>\n",
       "      <td>57504</td>\n",
       "      <td>5743</td>\n",
       "      <td>14365</td>\n",
       "      <td>307</td>\n",
       "      <td>52860</td>\n",
       "    </tr>\n",
       "    <tr>\n",
       "      <th>478</th>\n",
       "      <td>2015</td>\n",
       "      <td>7</td>\n",
       "      <td>AA</td>\n",
       "      <td>DFW</td>\n",
       "      <td>44979</td>\n",
       "      <td>5467</td>\n",
       "      <td>12157</td>\n",
       "      <td>63</td>\n",
       "      <td>64112</td>\n",
       "    </tr>\n",
       "    <tr>\n",
       "      <th>2</th>\n",
       "      <td>2015</td>\n",
       "      <td>1</td>\n",
       "      <td>AA</td>\n",
       "      <td>DFW</td>\n",
       "      <td>66714</td>\n",
       "      <td>5055</td>\n",
       "      <td>24137</td>\n",
       "      <td>123</td>\n",
       "      <td>71284</td>\n",
       "    </tr>\n",
       "    <tr>\n",
       "      <th>592</th>\n",
       "      <td>2015</td>\n",
       "      <td>8</td>\n",
       "      <td>AA</td>\n",
       "      <td>CLT</td>\n",
       "      <td>23836</td>\n",
       "      <td>4349</td>\n",
       "      <td>20447</td>\n",
       "      <td>96</td>\n",
       "      <td>25502</td>\n",
       "    </tr>\n",
       "    <tr>\n",
       "      <th>94</th>\n",
       "      <td>2015</td>\n",
       "      <td>2</td>\n",
       "      <td>AA</td>\n",
       "      <td>MIA</td>\n",
       "      <td>16438</td>\n",
       "      <td>4309</td>\n",
       "      <td>12110</td>\n",
       "      <td>62</td>\n",
       "      <td>15150</td>\n",
       "    </tr>\n",
       "    <tr>\n",
       "      <th>163</th>\n",
       "      <td>2015</td>\n",
       "      <td>3</td>\n",
       "      <td>AA</td>\n",
       "      <td>DFW</td>\n",
       "      <td>55859</td>\n",
       "      <td>4119</td>\n",
       "      <td>22446</td>\n",
       "      <td>20</td>\n",
       "      <td>65890</td>\n",
       "    </tr>\n",
       "    <tr>\n",
       "      <th>82</th>\n",
       "      <td>2015</td>\n",
       "      <td>2</td>\n",
       "      <td>AA</td>\n",
       "      <td>LAX</td>\n",
       "      <td>15399</td>\n",
       "      <td>3997</td>\n",
       "      <td>8179</td>\n",
       "      <td>154</td>\n",
       "      <td>12835</td>\n",
       "    </tr>\n",
       "    <tr>\n",
       "      <th>97</th>\n",
       "      <td>2015</td>\n",
       "      <td>2</td>\n",
       "      <td>AA</td>\n",
       "      <td>ORD</td>\n",
       "      <td>12161</td>\n",
       "      <td>3834</td>\n",
       "      <td>10577</td>\n",
       "      <td>0</td>\n",
       "      <td>20343</td>\n",
       "    </tr>\n",
       "    <tr>\n",
       "      <th>826</th>\n",
       "      <td>2015</td>\n",
       "      <td>11</td>\n",
       "      <td>AA</td>\n",
       "      <td>ORD</td>\n",
       "      <td>14647</td>\n",
       "      <td>3272</td>\n",
       "      <td>25821</td>\n",
       "      <td>297</td>\n",
       "      <td>19806</td>\n",
       "    </tr>\n",
       "    <tr>\n",
       "      <th>574</th>\n",
       "      <td>2015</td>\n",
       "      <td>8</td>\n",
       "      <td>AA</td>\n",
       "      <td>MIA</td>\n",
       "      <td>19499</td>\n",
       "      <td>3223</td>\n",
       "      <td>17891</td>\n",
       "      <td>46</td>\n",
       "      <td>21858</td>\n",
       "    </tr>\n",
       "    <tr>\n",
       "      <th>411</th>\n",
       "      <td>2015</td>\n",
       "      <td>6</td>\n",
       "      <td>AA</td>\n",
       "      <td>MIA</td>\n",
       "      <td>28359</td>\n",
       "      <td>3012</td>\n",
       "      <td>11100</td>\n",
       "      <td>124</td>\n",
       "      <td>25714</td>\n",
       "    </tr>\n",
       "    <tr>\n",
       "      <th>335</th>\n",
       "      <td>2015</td>\n",
       "      <td>5</td>\n",
       "      <td>AA</td>\n",
       "      <td>LAX</td>\n",
       "      <td>10223</td>\n",
       "      <td>2992</td>\n",
       "      <td>4857</td>\n",
       "      <td>2</td>\n",
       "      <td>10791</td>\n",
       "    </tr>\n",
       "    <tr>\n",
       "      <th>410</th>\n",
       "      <td>2015</td>\n",
       "      <td>6</td>\n",
       "      <td>AA</td>\n",
       "      <td>ORD</td>\n",
       "      <td>17119</td>\n",
       "      <td>2977</td>\n",
       "      <td>29462</td>\n",
       "      <td>86</td>\n",
       "      <td>27139</td>\n",
       "    </tr>\n",
       "  </tbody>\n",
       "</table>\n",
       "</div>"
      ],
      "text/plain": [
       "     year  month carrier airport  carrier_delay  weather_delay  nas_delay  \\\n",
       "324  2015      5      AA     DFW          46365          17589      36820   \n",
       "245  2015      4      AA     DFW          48739          14870      43634   \n",
       "401  2015      6      AA     DFW          67562          11292      26810   \n",
       "83   2015      2      AA     DFW          45816          10408      30432   \n",
       "738  2015     10      AA     DFW          39490           9717      27652   \n",
       "831  2015     11      AA     DFW          42367           8400      24098   \n",
       "916  2015     12      AA     DFW          50292           7053      23437   \n",
       "565  2015      8      AA     DFW          57504           5743      14365   \n",
       "478  2015      7      AA     DFW          44979           5467      12157   \n",
       "2    2015      1      AA     DFW          66714           5055      24137   \n",
       "592  2015      8      AA     CLT          23836           4349      20447   \n",
       "94   2015      2      AA     MIA          16438           4309      12110   \n",
       "163  2015      3      AA     DFW          55859           4119      22446   \n",
       "82   2015      2      AA     LAX          15399           3997       8179   \n",
       "97   2015      2      AA     ORD          12161           3834      10577   \n",
       "826  2015     11      AA     ORD          14647           3272      25821   \n",
       "574  2015      8      AA     MIA          19499           3223      17891   \n",
       "411  2015      6      AA     MIA          28359           3012      11100   \n",
       "335  2015      5      AA     LAX          10223           2992       4857   \n",
       "410  2015      6      AA     ORD          17119           2977      29462   \n",
       "\n",
       "     security_delay  late_aircraft_delay  \n",
       "324              85                61054  \n",
       "245              94                61330  \n",
       "401             194                67744  \n",
       "83               60                49773  \n",
       "738             137                43036  \n",
       "831             214                49570  \n",
       "916             356                50497  \n",
       "565             307                52860  \n",
       "478              63                64112  \n",
       "2               123                71284  \n",
       "592              96                25502  \n",
       "94               62                15150  \n",
       "163              20                65890  \n",
       "82              154                12835  \n",
       "97                0                20343  \n",
       "826             297                19806  \n",
       "574              46                21858  \n",
       "411             124                25714  \n",
       "335               2                10791  \n",
       "410              86                27139  "
      ]
     },
     "execution_count": 172,
     "metadata": {},
     "output_type": "execute_result"
    }
   ],
   "source": [
    "df1.sort('weather_delay', ascending=False)[:20]\n",
    "#interestingly, the longest weather delay occur in summer months in Dallas\n",
    "#I wonder if this is a data error"
   ]
  },
  {
   "cell_type": "code",
   "execution_count": 189,
   "metadata": {
    "collapsed": false
   },
   "outputs": [
    {
     "data": {
      "text/html": [
       "<div>\n",
       "<table border=\"1\" class=\"dataframe\">\n",
       "  <thead>\n",
       "    <tr style=\"text-align: right;\">\n",
       "      <th></th>\n",
       "      <th>year</th>\n",
       "      <th>month</th>\n",
       "      <th>carrier</th>\n",
       "      <th>airport</th>\n",
       "      <th>carrier_delay</th>\n",
       "      <th>weather_delay</th>\n",
       "      <th>nas_delay</th>\n",
       "      <th>security_delay</th>\n",
       "      <th>late_aircraft_delay</th>\n",
       "    </tr>\n",
       "  </thead>\n",
       "  <tbody>\n",
       "    <tr>\n",
       "      <th>2</th>\n",
       "      <td>2015</td>\n",
       "      <td>1</td>\n",
       "      <td>AA</td>\n",
       "      <td>DFW</td>\n",
       "      <td>66714</td>\n",
       "      <td>5055</td>\n",
       "      <td>24137</td>\n",
       "      <td>123</td>\n",
       "      <td>71284</td>\n",
       "    </tr>\n",
       "    <tr>\n",
       "      <th>83</th>\n",
       "      <td>2015</td>\n",
       "      <td>2</td>\n",
       "      <td>AA</td>\n",
       "      <td>DFW</td>\n",
       "      <td>45816</td>\n",
       "      <td>10408</td>\n",
       "      <td>30432</td>\n",
       "      <td>60</td>\n",
       "      <td>49773</td>\n",
       "    </tr>\n",
       "    <tr>\n",
       "      <th>163</th>\n",
       "      <td>2015</td>\n",
       "      <td>3</td>\n",
       "      <td>AA</td>\n",
       "      <td>DFW</td>\n",
       "      <td>55859</td>\n",
       "      <td>4119</td>\n",
       "      <td>22446</td>\n",
       "      <td>20</td>\n",
       "      <td>65890</td>\n",
       "    </tr>\n",
       "    <tr>\n",
       "      <th>245</th>\n",
       "      <td>2015</td>\n",
       "      <td>4</td>\n",
       "      <td>AA</td>\n",
       "      <td>DFW</td>\n",
       "      <td>48739</td>\n",
       "      <td>14870</td>\n",
       "      <td>43634</td>\n",
       "      <td>94</td>\n",
       "      <td>61330</td>\n",
       "    </tr>\n",
       "    <tr>\n",
       "      <th>324</th>\n",
       "      <td>2015</td>\n",
       "      <td>5</td>\n",
       "      <td>AA</td>\n",
       "      <td>DFW</td>\n",
       "      <td>46365</td>\n",
       "      <td>17589</td>\n",
       "      <td>36820</td>\n",
       "      <td>85</td>\n",
       "      <td>61054</td>\n",
       "    </tr>\n",
       "    <tr>\n",
       "      <th>401</th>\n",
       "      <td>2015</td>\n",
       "      <td>6</td>\n",
       "      <td>AA</td>\n",
       "      <td>DFW</td>\n",
       "      <td>67562</td>\n",
       "      <td>11292</td>\n",
       "      <td>26810</td>\n",
       "      <td>194</td>\n",
       "      <td>67744</td>\n",
       "    </tr>\n",
       "    <tr>\n",
       "      <th>478</th>\n",
       "      <td>2015</td>\n",
       "      <td>7</td>\n",
       "      <td>AA</td>\n",
       "      <td>DFW</td>\n",
       "      <td>44979</td>\n",
       "      <td>5467</td>\n",
       "      <td>12157</td>\n",
       "      <td>63</td>\n",
       "      <td>64112</td>\n",
       "    </tr>\n",
       "    <tr>\n",
       "      <th>565</th>\n",
       "      <td>2015</td>\n",
       "      <td>8</td>\n",
       "      <td>AA</td>\n",
       "      <td>DFW</td>\n",
       "      <td>57504</td>\n",
       "      <td>5743</td>\n",
       "      <td>14365</td>\n",
       "      <td>307</td>\n",
       "      <td>52860</td>\n",
       "    </tr>\n",
       "    <tr>\n",
       "      <th>650</th>\n",
       "      <td>2015</td>\n",
       "      <td>9</td>\n",
       "      <td>AA</td>\n",
       "      <td>DFW</td>\n",
       "      <td>38096</td>\n",
       "      <td>2651</td>\n",
       "      <td>5696</td>\n",
       "      <td>226</td>\n",
       "      <td>33129</td>\n",
       "    </tr>\n",
       "    <tr>\n",
       "      <th>738</th>\n",
       "      <td>2015</td>\n",
       "      <td>10</td>\n",
       "      <td>AA</td>\n",
       "      <td>DFW</td>\n",
       "      <td>39490</td>\n",
       "      <td>9717</td>\n",
       "      <td>27652</td>\n",
       "      <td>137</td>\n",
       "      <td>43036</td>\n",
       "    </tr>\n",
       "    <tr>\n",
       "      <th>831</th>\n",
       "      <td>2015</td>\n",
       "      <td>11</td>\n",
       "      <td>AA</td>\n",
       "      <td>DFW</td>\n",
       "      <td>42367</td>\n",
       "      <td>8400</td>\n",
       "      <td>24098</td>\n",
       "      <td>214</td>\n",
       "      <td>49570</td>\n",
       "    </tr>\n",
       "    <tr>\n",
       "      <th>916</th>\n",
       "      <td>2015</td>\n",
       "      <td>12</td>\n",
       "      <td>AA</td>\n",
       "      <td>DFW</td>\n",
       "      <td>50292</td>\n",
       "      <td>7053</td>\n",
       "      <td>23437</td>\n",
       "      <td>356</td>\n",
       "      <td>50497</td>\n",
       "    </tr>\n",
       "  </tbody>\n",
       "</table>\n",
       "</div>"
      ],
      "text/plain": [
       "     year  month carrier airport  carrier_delay  weather_delay  nas_delay  \\\n",
       "2    2015      1      AA     DFW          66714           5055      24137   \n",
       "83   2015      2      AA     DFW          45816          10408      30432   \n",
       "163  2015      3      AA     DFW          55859           4119      22446   \n",
       "245  2015      4      AA     DFW          48739          14870      43634   \n",
       "324  2015      5      AA     DFW          46365          17589      36820   \n",
       "401  2015      6      AA     DFW          67562          11292      26810   \n",
       "478  2015      7      AA     DFW          44979           5467      12157   \n",
       "565  2015      8      AA     DFW          57504           5743      14365   \n",
       "650  2015      9      AA     DFW          38096           2651       5696   \n",
       "738  2015     10      AA     DFW          39490           9717      27652   \n",
       "831  2015     11      AA     DFW          42367           8400      24098   \n",
       "916  2015     12      AA     DFW          50292           7053      23437   \n",
       "\n",
       "     security_delay  late_aircraft_delay  \n",
       "2               123                71284  \n",
       "83               60                49773  \n",
       "163              20                65890  \n",
       "245              94                61330  \n",
       "324              85                61054  \n",
       "401             194                67744  \n",
       "478              63                64112  \n",
       "565             307                52860  \n",
       "650             226                33129  \n",
       "738             137                43036  \n",
       "831             214                49570  \n",
       "916             356                50497  "
      ]
     },
     "execution_count": 189,
     "metadata": {},
     "output_type": "execute_result"
    }
   ],
   "source": [
    "#since DFW is a hub of AA, let us take a greater look at the number of delays in this airport\n",
    "dfw = df1[df1['airport'] == 'DFW']\n",
    "dfw\n",
    "#this lists all delays in DFW in 2015"
   ]
  },
  {
   "cell_type": "code",
   "execution_count": 190,
   "metadata": {
    "collapsed": false
   },
   "outputs": [
    {
     "data": {
      "text/plain": [
       "array([[<matplotlib.axes._subplots.AxesSubplot object at 0x00000135A26F8898>]], dtype=object)"
      ]
     },
     "execution_count": 190,
     "metadata": {},
     "output_type": "execute_result"
    },
    {
     "data": {
      "image/png": "[encoded data removed]",
      "text/plain": [
       "<matplotlib.figure.Figure at 0x135a26f5550>"
      ]
     },
     "metadata": {},
     "output_type": "display_data"
    }
   ],
   "source": [
    "dfw.hist('weather_delay')"
   ]
  },
  {
   "cell_type": "code",
   "execution_count": 193,
   "metadata": {
    "collapsed": false
   },
   "outputs": [
    {
     "name": "stderr",
     "output_type": "stream",
     "text": [
      "C:\\Users\\mdtar001\\Anaconda3\\lib\\site-packages\\ipykernel\\__main__.py:1: FutureWarning: \n",
      "The default value for 'return_type' will change to 'axes' in a future release.\n",
      " To use the future behavior now, set return_type='axes'.\n",
      " To keep the previous behavior and silence this warning, set return_type='dict'.\n",
      "  if __name__ == '__main__':\n"
     ]
    },
    {
     "data": {
      "text/plain": [
       "{'boxes': [<matplotlib.lines.Line2D at 0x135a28ca3c8>,\n",
       "  <matplotlib.lines.Line2D at 0x135a28db898>,\n",
       "  <matplotlib.lines.Line2D at 0x135a28f3390>],\n",
       " 'caps': [<matplotlib.lines.Line2D at 0x135a28d1dd8>,\n",
       "  <matplotlib.lines.Line2D at 0x135a28d1f28>,\n",
       "  <matplotlib.lines.Line2D at 0x135a28e78d0>,\n",
       "  <matplotlib.lines.Line2D at 0x135a28e7a20>,\n",
       "  <matplotlib.lines.Line2D at 0x135a28f7c88>,\n",
       "  <matplotlib.lines.Line2D at 0x135a28fec18>],\n",
       " 'fliers': [<matplotlib.lines.Line2D at 0x135a28db748>,\n",
       "  <matplotlib.lines.Line2D at 0x135a28ebb00>,\n",
       "  <matplotlib.lines.Line2D at 0x135a2903cf8>],\n",
       " 'means': [],\n",
       " 'medians': [<matplotlib.lines.Line2D at 0x135a28d67b8>,\n",
       "  <matplotlib.lines.Line2D at 0x135a28eb2b0>,\n",
       "  <matplotlib.lines.Line2D at 0x135a28fed68>],\n",
       " 'whiskers': [<matplotlib.lines.Line2D at 0x135a28cacf8>,\n",
       "  <matplotlib.lines.Line2D at 0x135a28cae48>,\n",
       "  <matplotlib.lines.Line2D at 0x135a28e17f0>,\n",
       "  <matplotlib.lines.Line2D at 0x135a28e1f60>,\n",
       "  <matplotlib.lines.Line2D at 0x135a28f3b38>,\n",
       "  <matplotlib.lines.Line2D at 0x135a28f7b38>]}"
      ]
     },
     "execution_count": 193,
     "metadata": {},
     "output_type": "execute_result"
    },
    {
     "data": {
      "image/png": "[encoded data removed]",
      "text/plain": [
       "<matplotlib.figure.Figure at 0x135a26f5eb8>"
      ]
     },
     "metadata": {},
     "output_type": "display_data"
    }
   ],
   "source": [
    "dfw.boxplot(['carrier_delay', 'weather_delay', 'late_aircraft_delay'])"
   ]
  },
  {
   "cell_type": "code",
   "execution_count": 196,
   "metadata": {
    "collapsed": false
   },
   "outputs": [],
   "source": [
    "#now lets compare this with United, and Delta in 2015\n",
    "#to do this, we need to load another data."
   ]
  },
  {
   "cell_type": "code",
   "execution_count": 32,
   "metadata": {
    "collapsed": false
   },
   "outputs": [
    {
     "data": {
      "text/html": [
       "<div>\n",
       "<table border=\"1\" class=\"dataframe\">\n",
       "  <thead>\n",
       "    <tr style=\"text-align: right;\">\n",
       "      <th></th>\n",
       "      <th>year</th>\n",
       "      <th>month</th>\n",
       "      <th>carrier</th>\n",
       "      <th>airport</th>\n",
       "      <th>arr_flights</th>\n",
       "      <th>arr_del15</th>\n",
       "      <th>arr_cancelled</th>\n",
       "      <th>arr_diverted</th>\n",
       "      <th>arr_delay</th>\n",
       "      <th>carrier_delay</th>\n",
       "      <th>weather_delay</th>\n",
       "      <th>nas_delay</th>\n",
       "      <th>security_delay</th>\n",
       "      <th>late_aircraft_delay</th>\n",
       "    </tr>\n",
       "  </thead>\n",
       "  <tbody>\n",
       "    <tr>\n",
       "      <th>0</th>\n",
       "      <td>2015</td>\n",
       "      <td>1</td>\n",
       "      <td>AA</td>\n",
       "      <td>JFK</td>\n",
       "      <td>1369.0</td>\n",
       "      <td>322.0</td>\n",
       "      <td>86.0</td>\n",
       "      <td>3.0</td>\n",
       "      <td>20055.0</td>\n",
       "      <td>5273.0</td>\n",
       "      <td>999.0</td>\n",
       "      <td>6358.0</td>\n",
       "      <td>0.0</td>\n",
       "      <td>7425.0</td>\n",
       "    </tr>\n",
       "    <tr>\n",
       "      <th>1</th>\n",
       "      <td>2015</td>\n",
       "      <td>1</td>\n",
       "      <td>AA</td>\n",
       "      <td>LAX</td>\n",
       "      <td>2633.0</td>\n",
       "      <td>445.0</td>\n",
       "      <td>41.0</td>\n",
       "      <td>4.0</td>\n",
       "      <td>25261.0</td>\n",
       "      <td>10914.0</td>\n",
       "      <td>1460.0</td>\n",
       "      <td>3293.0</td>\n",
       "      <td>42.0</td>\n",
       "      <td>9552.0</td>\n",
       "    </tr>\n",
       "    <tr>\n",
       "      <th>2</th>\n",
       "      <td>2015</td>\n",
       "      <td>1</td>\n",
       "      <td>AA</td>\n",
       "      <td>DFW</td>\n",
       "      <td>12466.0</td>\n",
       "      <td>2463.0</td>\n",
       "      <td>203.0</td>\n",
       "      <td>6.0</td>\n",
       "      <td>167313.0</td>\n",
       "      <td>66714.0</td>\n",
       "      <td>5055.0</td>\n",
       "      <td>24137.0</td>\n",
       "      <td>123.0</td>\n",
       "      <td>71284.0</td>\n",
       "    </tr>\n",
       "    <tr>\n",
       "      <th>3</th>\n",
       "      <td>2015</td>\n",
       "      <td>1</td>\n",
       "      <td>AA</td>\n",
       "      <td>OGG</td>\n",
       "      <td>100.0</td>\n",
       "      <td>22.0</td>\n",
       "      <td>3.0</td>\n",
       "      <td>0.0</td>\n",
       "      <td>1776.0</td>\n",
       "      <td>1207.0</td>\n",
       "      <td>0.0</td>\n",
       "      <td>188.0</td>\n",
       "      <td>0.0</td>\n",
       "      <td>381.0</td>\n",
       "    </tr>\n",
       "    <tr>\n",
       "      <th>4</th>\n",
       "      <td>2015</td>\n",
       "      <td>1</td>\n",
       "      <td>AA</td>\n",
       "      <td>HNL</td>\n",
       "      <td>169.0</td>\n",
       "      <td>50.0</td>\n",
       "      <td>0.0</td>\n",
       "      <td>4.0</td>\n",
       "      <td>4175.0</td>\n",
       "      <td>2602.0</td>\n",
       "      <td>0.0</td>\n",
       "      <td>523.0</td>\n",
       "      <td>0.0</td>\n",
       "      <td>1050.0</td>\n",
       "    </tr>\n",
       "  </tbody>\n",
       "</table>\n",
       "</div>"
      ],
      "text/plain": [
       "   year  month carrier airport  arr_flights  arr_del15  arr_cancelled  \\\n",
       "0  2015      1      AA     JFK       1369.0      322.0           86.0   \n",
       "1  2015      1      AA     LAX       2633.0      445.0           41.0   \n",
       "2  2015      1      AA     DFW      12466.0     2463.0          203.0   \n",
       "3  2015      1      AA     OGG        100.0       22.0            3.0   \n",
       "4  2015      1      AA     HNL        169.0       50.0            0.0   \n",
       "\n",
       "   arr_diverted   arr_delay  carrier_delay  weather_delay  nas_delay  \\\n",
       "0           3.0     20055.0         5273.0          999.0     6358.0   \n",
       "1           4.0     25261.0        10914.0         1460.0     3293.0   \n",
       "2           6.0    167313.0        66714.0         5055.0    24137.0   \n",
       "3           0.0      1776.0         1207.0            0.0      188.0   \n",
       "4           4.0      4175.0         2602.0            0.0      523.0   \n",
       "\n",
       "   security_delay  late_aircraft_delay  \n",
       "0             0.0               7425.0  \n",
       "1            42.0               9552.0  \n",
       "2           123.0              71284.0  \n",
       "3             0.0                381.0  \n",
       "4             0.0               1050.0  "
      ]
     },
     "execution_count": 32,
     "metadata": {},
     "output_type": "execute_result"
    }
   ],
   "source": [
    "df3 = pd.read_csv('2015_ua_aa_dl.csv')\n",
    "df3.skipna = True\n",
    "df3.head()"
   ]
  },
  {
   "cell_type": "code",
   "execution_count": 9,
   "metadata": {
    "collapsed": false
   },
   "outputs": [
    {
     "data": {
      "text/html": [
       "<div>\n",
       "<table border=\"1\" class=\"dataframe\">\n",
       "  <thead>\n",
       "    <tr style=\"text-align: right;\">\n",
       "      <th></th>\n",
       "      <th>year</th>\n",
       "      <th>month</th>\n",
       "      <th>carrier</th>\n",
       "      <th>airport</th>\n",
       "      <th>arr_flights</th>\n",
       "      <th>arr_del15</th>\n",
       "      <th>arr_cancelled</th>\n",
       "      <th>arr_diverted</th>\n",
       "      <th>arr_delay</th>\n",
       "      <th>carrier_delay</th>\n",
       "      <th>weather_delay</th>\n",
       "      <th>nas_delay</th>\n",
       "      <th>security_delay</th>\n",
       "      <th>late_aircraft_delay</th>\n",
       "    </tr>\n",
       "  </thead>\n",
       "  <tbody>\n",
       "    <tr>\n",
       "      <th>3705</th>\n",
       "      <td>2015</td>\n",
       "      <td>12</td>\n",
       "      <td>UA</td>\n",
       "      <td>GRR</td>\n",
       "      <td>18.0</td>\n",
       "      <td>5.0</td>\n",
       "      <td>0.0</td>\n",
       "      <td>0.0</td>\n",
       "      <td>275.0</td>\n",
       "      <td>146.0</td>\n",
       "      <td>50.0</td>\n",
       "      <td>23.0</td>\n",
       "      <td>0.0</td>\n",
       "      <td>56.0</td>\n",
       "    </tr>\n",
       "    <tr>\n",
       "      <th>3706</th>\n",
       "      <td>2015</td>\n",
       "      <td>12</td>\n",
       "      <td>UA</td>\n",
       "      <td>BNA</td>\n",
       "      <td>42.0</td>\n",
       "      <td>8.0</td>\n",
       "      <td>0.0</td>\n",
       "      <td>0.0</td>\n",
       "      <td>626.0</td>\n",
       "      <td>152.0</td>\n",
       "      <td>16.0</td>\n",
       "      <td>13.0</td>\n",
       "      <td>0.0</td>\n",
       "      <td>445.0</td>\n",
       "    </tr>\n",
       "    <tr>\n",
       "      <th>3707</th>\n",
       "      <td>2015</td>\n",
       "      <td>12</td>\n",
       "      <td>UA</td>\n",
       "      <td>MDT</td>\n",
       "      <td>27.0</td>\n",
       "      <td>8.0</td>\n",
       "      <td>0.0</td>\n",
       "      <td>0.0</td>\n",
       "      <td>336.0</td>\n",
       "      <td>36.0</td>\n",
       "      <td>0.0</td>\n",
       "      <td>20.0</td>\n",
       "      <td>0.0</td>\n",
       "      <td>280.0</td>\n",
       "    </tr>\n",
       "    <tr>\n",
       "      <th>3708</th>\n",
       "      <td>2015</td>\n",
       "      <td>12</td>\n",
       "      <td>UA</td>\n",
       "      <td>JAX</td>\n",
       "      <td>14.0</td>\n",
       "      <td>4.0</td>\n",
       "      <td>0.0</td>\n",
       "      <td>0.0</td>\n",
       "      <td>171.0</td>\n",
       "      <td>95.0</td>\n",
       "      <td>0.0</td>\n",
       "      <td>7.0</td>\n",
       "      <td>0.0</td>\n",
       "      <td>69.0</td>\n",
       "    </tr>\n",
       "    <tr>\n",
       "      <th>3709</th>\n",
       "      <td>2015</td>\n",
       "      <td>12</td>\n",
       "      <td>UA</td>\n",
       "      <td>CVG</td>\n",
       "      <td>3.0</td>\n",
       "      <td>1.0</td>\n",
       "      <td>0.0</td>\n",
       "      <td>0.0</td>\n",
       "      <td>65.0</td>\n",
       "      <td>65.0</td>\n",
       "      <td>0.0</td>\n",
       "      <td>0.0</td>\n",
       "      <td>0.0</td>\n",
       "      <td>0.0</td>\n",
       "    </tr>\n",
       "  </tbody>\n",
       "</table>\n",
       "</div>"
      ],
      "text/plain": [
       "      year  month carrier airport  arr_flights  arr_del15  arr_cancelled  \\\n",
       "3705  2015     12      UA     GRR         18.0        5.0            0.0   \n",
       "3706  2015     12      UA     BNA         42.0        8.0            0.0   \n",
       "3707  2015     12      UA     MDT         27.0        8.0            0.0   \n",
       "3708  2015     12      UA     JAX         14.0        4.0            0.0   \n",
       "3709  2015     12      UA     CVG          3.0        1.0            0.0   \n",
       "\n",
       "      arr_diverted   arr_delay  carrier_delay  weather_delay  nas_delay  \\\n",
       "3705           0.0       275.0          146.0           50.0       23.0   \n",
       "3706           0.0       626.0          152.0           16.0       13.0   \n",
       "3707           0.0       336.0           36.0            0.0       20.0   \n",
       "3708           0.0       171.0           95.0            0.0        7.0   \n",
       "3709           0.0        65.0           65.0            0.0        0.0   \n",
       "\n",
       "      security_delay  late_aircraft_delay  \n",
       "3705             0.0                 56.0  \n",
       "3706             0.0                445.0  \n",
       "3707             0.0                280.0  \n",
       "3708             0.0                 69.0  \n",
       "3709             0.0                  0.0  "
      ]
     },
     "execution_count": 9,
     "metadata": {},
     "output_type": "execute_result"
    }
   ],
   "source": [
    "df3.tail()"
   ]
  },
  {
   "cell_type": "code",
   "execution_count": 33,
   "metadata": {
    "collapsed": false
   },
   "outputs": [
    {
     "data": {
      "text/html": [
       "<div>\n",
       "<table border=\"1\" class=\"dataframe\">\n",
       "  <thead>\n",
       "    <tr style=\"text-align: right;\">\n",
       "      <th></th>\n",
       "      <th>year</th>\n",
       "      <th>month</th>\n",
       "      <th>arr_flights</th>\n",
       "      <th>arr_del15</th>\n",
       "      <th>arr_cancelled</th>\n",
       "      <th>arr_diverted</th>\n",
       "      <th>arr_delay</th>\n",
       "      <th>carrier_delay</th>\n",
       "      <th>weather_delay</th>\n",
       "      <th>nas_delay</th>\n",
       "      <th>security_delay</th>\n",
       "      <th>late_aircraft_delay</th>\n",
       "    </tr>\n",
       "  </thead>\n",
       "  <tbody>\n",
       "    <tr>\n",
       "      <th>count</th>\n",
       "      <td>3710.0</td>\n",
       "      <td>3710.000000</td>\n",
       "      <td>3704.000000</td>\n",
       "      <td>3704.000000</td>\n",
       "      <td>3704.00000</td>\n",
       "      <td>3704.000000</td>\n",
       "      <td>3704.000000</td>\n",
       "      <td>3704.000000</td>\n",
       "      <td>3704.000000</td>\n",
       "      <td>3704.000000</td>\n",
       "      <td>3704.000000</td>\n",
       "      <td>3704.000000</td>\n",
       "    </tr>\n",
       "    <tr>\n",
       "      <th>mean</th>\n",
       "      <td>2015.0</td>\n",
       "      <td>6.581402</td>\n",
       "      <td>571.703024</td>\n",
       "      <td>95.308855</td>\n",
       "      <td>5.75486</td>\n",
       "      <td>1.430886</td>\n",
       "      <td>5895.553996</td>\n",
       "      <td>2072.320734</td>\n",
       "      <td>376.718413</td>\n",
       "      <td>1363.476242</td>\n",
       "      <td>5.770248</td>\n",
       "      <td>2077.268359</td>\n",
       "    </tr>\n",
       "    <tr>\n",
       "      <th>std</th>\n",
       "      <td>0.0</td>\n",
       "      <td>3.461023</td>\n",
       "      <td>1610.289975</td>\n",
       "      <td>238.954123</td>\n",
       "      <td>26.86519</td>\n",
       "      <td>6.748927</td>\n",
       "      <td>16270.160198</td>\n",
       "      <td>5700.303401</td>\n",
       "      <td>1078.141532</td>\n",
       "      <td>4148.296366</td>\n",
       "      <td>28.307270</td>\n",
       "      <td>5981.027365</td>\n",
       "    </tr>\n",
       "    <tr>\n",
       "      <th>min</th>\n",
       "      <td>2015.0</td>\n",
       "      <td>1.000000</td>\n",
       "      <td>1.000000</td>\n",
       "      <td>0.000000</td>\n",
       "      <td>0.00000</td>\n",
       "      <td>0.000000</td>\n",
       "      <td>0.000000</td>\n",
       "      <td>0.000000</td>\n",
       "      <td>0.000000</td>\n",
       "      <td>0.000000</td>\n",
       "      <td>0.000000</td>\n",
       "      <td>0.000000</td>\n",
       "    </tr>\n",
       "    <tr>\n",
       "      <th>25%</th>\n",
       "      <td>2015.0</td>\n",
       "      <td>4.000000</td>\n",
       "      <td>60.000000</td>\n",
       "      <td>9.000000</td>\n",
       "      <td>0.00000</td>\n",
       "      <td>0.000000</td>\n",
       "      <td>505.750000</td>\n",
       "      <td>191.000000</td>\n",
       "      <td>0.000000</td>\n",
       "      <td>50.000000</td>\n",
       "      <td>0.000000</td>\n",
       "      <td>137.000000</td>\n",
       "    </tr>\n",
       "    <tr>\n",
       "      <th>50%</th>\n",
       "      <td>2015.0</td>\n",
       "      <td>7.000000</td>\n",
       "      <td>160.500000</td>\n",
       "      <td>25.000000</td>\n",
       "      <td>0.00000</td>\n",
       "      <td>0.000000</td>\n",
       "      <td>1404.000000</td>\n",
       "      <td>588.000000</td>\n",
       "      <td>93.500000</td>\n",
       "      <td>187.500000</td>\n",
       "      <td>0.000000</td>\n",
       "      <td>462.000000</td>\n",
       "    </tr>\n",
       "    <tr>\n",
       "      <th>75%</th>\n",
       "      <td>2015.0</td>\n",
       "      <td>10.000000</td>\n",
       "      <td>437.500000</td>\n",
       "      <td>73.000000</td>\n",
       "      <td>3.00000</td>\n",
       "      <td>1.000000</td>\n",
       "      <td>4159.000000</td>\n",
       "      <td>1607.250000</td>\n",
       "      <td>366.000000</td>\n",
       "      <td>676.250000</td>\n",
       "      <td>0.000000</td>\n",
       "      <td>1412.750000</td>\n",
       "    </tr>\n",
       "    <tr>\n",
       "      <th>max</th>\n",
       "      <td>2015.0</td>\n",
       "      <td>12.000000</td>\n",
       "      <td>21648.000000</td>\n",
       "      <td>3077.000000</td>\n",
       "      <td>914.00000</td>\n",
       "      <td>160.000000</td>\n",
       "      <td>238004.000000</td>\n",
       "      <td>83815.000000</td>\n",
       "      <td>31960.000000</td>\n",
       "      <td>59015.000000</td>\n",
       "      <td>440.000000</td>\n",
       "      <td>82182.000000</td>\n",
       "    </tr>\n",
       "  </tbody>\n",
       "</table>\n",
       "</div>"
      ],
      "text/plain": [
       "         year        month   arr_flights    arr_del15  arr_cancelled  \\\n",
       "count  3710.0  3710.000000   3704.000000  3704.000000     3704.00000   \n",
       "mean   2015.0     6.581402    571.703024    95.308855        5.75486   \n",
       "std       0.0     3.461023   1610.289975   238.954123       26.86519   \n",
       "min    2015.0     1.000000      1.000000     0.000000        0.00000   \n",
       "25%    2015.0     4.000000     60.000000     9.000000        0.00000   \n",
       "50%    2015.0     7.000000    160.500000    25.000000        0.00000   \n",
       "75%    2015.0    10.000000    437.500000    73.000000        3.00000   \n",
       "max    2015.0    12.000000  21648.000000  3077.000000      914.00000   \n",
       "\n",
       "       arr_diverted      arr_delay  carrier_delay  weather_delay  \\\n",
       "count   3704.000000    3704.000000    3704.000000    3704.000000   \n",
       "mean       1.430886    5895.553996    2072.320734     376.718413   \n",
       "std        6.748927   16270.160198    5700.303401    1078.141532   \n",
       "min        0.000000       0.000000       0.000000       0.000000   \n",
       "25%        0.000000     505.750000     191.000000       0.000000   \n",
       "50%        0.000000    1404.000000     588.000000      93.500000   \n",
       "75%        1.000000    4159.000000    1607.250000     366.000000   \n",
       "max      160.000000  238004.000000   83815.000000   31960.000000   \n",
       "\n",
       "          nas_delay  security_delay  late_aircraft_delay  \n",
       "count   3704.000000     3704.000000          3704.000000  \n",
       "mean    1363.476242        5.770248          2077.268359  \n",
       "std     4148.296366       28.307270          5981.027365  \n",
       "min        0.000000        0.000000             0.000000  \n",
       "25%       50.000000        0.000000           137.000000  \n",
       "50%      187.500000        0.000000           462.000000  \n",
       "75%      676.250000        0.000000          1412.750000  \n",
       "max    59015.000000      440.000000         82182.000000  "
      ]
     },
     "execution_count": 33,
     "metadata": {},
     "output_type": "execute_result"
    }
   ],
   "source": [
    "df3.describe()"
   ]
  },
  {
   "cell_type": "code",
   "execution_count": 46,
   "metadata": {
    "collapsed": false
   },
   "outputs": [],
   "source": [
    "#create a new dataframe just to select the attributes\n",
    "df3_corr=df3.loc[:,['arr_flights','arr_del15','arr_cancelled','arr_diverted',\n",
    "                 ' arr_delay','carrier_delay','weather_delay','nas_delay','security_delay','late_aircraft_delay']]"
   ]
  },
  {
   "cell_type": "code",
   "execution_count": 47,
   "metadata": {
    "collapsed": false
   },
   "outputs": [
    {
     "data": {
      "text/html": [
       "<div>\n",
       "<table border=\"1\" class=\"dataframe\">\n",
       "  <thead>\n",
       "    <tr style=\"text-align: right;\">\n",
       "      <th></th>\n",
       "      <th>arr_flights</th>\n",
       "      <th>arr_del15</th>\n",
       "      <th>arr_cancelled</th>\n",
       "      <th>arr_diverted</th>\n",
       "      <th>arr_delay</th>\n",
       "      <th>carrier_delay</th>\n",
       "      <th>weather_delay</th>\n",
       "      <th>nas_delay</th>\n",
       "      <th>security_delay</th>\n",
       "      <th>late_aircraft_delay</th>\n",
       "    </tr>\n",
       "  </thead>\n",
       "  <tbody>\n",
       "    <tr>\n",
       "      <th>arr_flights</th>\n",
       "      <td>1.000000</td>\n",
       "      <td>0.940118</td>\n",
       "      <td>0.532557</td>\n",
       "      <td>0.720829</td>\n",
       "      <td>0.931771</td>\n",
       "      <td>0.962201</td>\n",
       "      <td>0.798489</td>\n",
       "      <td>0.835986</td>\n",
       "      <td>0.451835</td>\n",
       "      <td>0.891758</td>\n",
       "    </tr>\n",
       "    <tr>\n",
       "      <th>arr_del15</th>\n",
       "      <td>0.940118</td>\n",
       "      <td>1.000000</td>\n",
       "      <td>0.641527</td>\n",
       "      <td>0.742086</td>\n",
       "      <td>0.989319</td>\n",
       "      <td>0.971754</td>\n",
       "      <td>0.843544</td>\n",
       "      <td>0.922553</td>\n",
       "      <td>0.461258</td>\n",
       "      <td>0.970995</td>\n",
       "    </tr>\n",
       "    <tr>\n",
       "      <th>arr_cancelled</th>\n",
       "      <td>0.532557</td>\n",
       "      <td>0.641527</td>\n",
       "      <td>1.000000</td>\n",
       "      <td>0.435985</td>\n",
       "      <td>0.652270</td>\n",
       "      <td>0.605382</td>\n",
       "      <td>0.670655</td>\n",
       "      <td>0.603333</td>\n",
       "      <td>0.257521</td>\n",
       "      <td>0.656831</td>\n",
       "    </tr>\n",
       "    <tr>\n",
       "      <th>arr_diverted</th>\n",
       "      <td>0.720829</td>\n",
       "      <td>0.742086</td>\n",
       "      <td>0.435985</td>\n",
       "      <td>1.000000</td>\n",
       "      <td>0.772475</td>\n",
       "      <td>0.735239</td>\n",
       "      <td>0.686566</td>\n",
       "      <td>0.751909</td>\n",
       "      <td>0.357832</td>\n",
       "      <td>0.753669</td>\n",
       "    </tr>\n",
       "    <tr>\n",
       "      <th>arr_delay</th>\n",
       "      <td>0.931771</td>\n",
       "      <td>0.989319</td>\n",
       "      <td>0.652270</td>\n",
       "      <td>0.772475</td>\n",
       "      <td>1.000000</td>\n",
       "      <td>0.977761</td>\n",
       "      <td>0.864105</td>\n",
       "      <td>0.934539</td>\n",
       "      <td>0.441600</td>\n",
       "      <td>0.982399</td>\n",
       "    </tr>\n",
       "    <tr>\n",
       "      <th>carrier_delay</th>\n",
       "      <td>0.962201</td>\n",
       "      <td>0.971754</td>\n",
       "      <td>0.605382</td>\n",
       "      <td>0.735239</td>\n",
       "      <td>0.977761</td>\n",
       "      <td>1.000000</td>\n",
       "      <td>0.843609</td>\n",
       "      <td>0.861711</td>\n",
       "      <td>0.459093</td>\n",
       "      <td>0.954829</td>\n",
       "    </tr>\n",
       "    <tr>\n",
       "      <th>weather_delay</th>\n",
       "      <td>0.798489</td>\n",
       "      <td>0.843544</td>\n",
       "      <td>0.670655</td>\n",
       "      <td>0.686566</td>\n",
       "      <td>0.864105</td>\n",
       "      <td>0.843609</td>\n",
       "      <td>1.000000</td>\n",
       "      <td>0.787334</td>\n",
       "      <td>0.347177</td>\n",
       "      <td>0.818627</td>\n",
       "    </tr>\n",
       "    <tr>\n",
       "      <th>nas_delay</th>\n",
       "      <td>0.835986</td>\n",
       "      <td>0.922553</td>\n",
       "      <td>0.603333</td>\n",
       "      <td>0.751909</td>\n",
       "      <td>0.934539</td>\n",
       "      <td>0.861711</td>\n",
       "      <td>0.787334</td>\n",
       "      <td>1.000000</td>\n",
       "      <td>0.394352</td>\n",
       "      <td>0.883588</td>\n",
       "    </tr>\n",
       "    <tr>\n",
       "      <th>security_delay</th>\n",
       "      <td>0.451835</td>\n",
       "      <td>0.461258</td>\n",
       "      <td>0.257521</td>\n",
       "      <td>0.357832</td>\n",
       "      <td>0.441600</td>\n",
       "      <td>0.459093</td>\n",
       "      <td>0.347177</td>\n",
       "      <td>0.394352</td>\n",
       "      <td>1.000000</td>\n",
       "      <td>0.422909</td>\n",
       "    </tr>\n",
       "    <tr>\n",
       "      <th>late_aircraft_delay</th>\n",
       "      <td>0.891758</td>\n",
       "      <td>0.970995</td>\n",
       "      <td>0.656831</td>\n",
       "      <td>0.753669</td>\n",
       "      <td>0.982399</td>\n",
       "      <td>0.954829</td>\n",
       "      <td>0.818627</td>\n",
       "      <td>0.883588</td>\n",
       "      <td>0.422909</td>\n",
       "      <td>1.000000</td>\n",
       "    </tr>\n",
       "  </tbody>\n",
       "</table>\n",
       "</div>"
      ],
      "text/plain": [
       "                     arr_flights  arr_del15  arr_cancelled  arr_diverted  \\\n",
       "arr_flights             1.000000   0.940118       0.532557      0.720829   \n",
       "arr_del15               0.940118   1.000000       0.641527      0.742086   \n",
       "arr_cancelled           0.532557   0.641527       1.000000      0.435985   \n",
       "arr_diverted            0.720829   0.742086       0.435985      1.000000   \n",
       " arr_delay              0.931771   0.989319       0.652270      0.772475   \n",
       "carrier_delay           0.962201   0.971754       0.605382      0.735239   \n",
       "weather_delay           0.798489   0.843544       0.670655      0.686566   \n",
       "nas_delay               0.835986   0.922553       0.603333      0.751909   \n",
       "security_delay          0.451835   0.461258       0.257521      0.357832   \n",
       "late_aircraft_delay     0.891758   0.970995       0.656831      0.753669   \n",
       "\n",
       "                      arr_delay  carrier_delay  weather_delay  nas_delay  \\\n",
       "arr_flights            0.931771       0.962201       0.798489   0.835986   \n",
       "arr_del15              0.989319       0.971754       0.843544   0.922553   \n",
       "arr_cancelled          0.652270       0.605382       0.670655   0.603333   \n",
       "arr_diverted           0.772475       0.735239       0.686566   0.751909   \n",
       " arr_delay             1.000000       0.977761       0.864105   0.934539   \n",
       "carrier_delay          0.977761       1.000000       0.843609   0.861711   \n",
       "weather_delay          0.864105       0.843609       1.000000   0.787334   \n",
       "nas_delay              0.934539       0.861711       0.787334   1.000000   \n",
       "security_delay         0.441600       0.459093       0.347177   0.394352   \n",
       "late_aircraft_delay    0.982399       0.954829       0.818627   0.883588   \n",
       "\n",
       "                     security_delay  late_aircraft_delay  \n",
       "arr_flights                0.451835             0.891758  \n",
       "arr_del15                  0.461258             0.970995  \n",
       "arr_cancelled              0.257521             0.656831  \n",
       "arr_diverted               0.357832             0.753669  \n",
       " arr_delay                 0.441600             0.982399  \n",
       "carrier_delay              0.459093             0.954829  \n",
       "weather_delay              0.347177             0.818627  \n",
       "nas_delay                  0.394352             0.883588  \n",
       "security_delay             1.000000             0.422909  \n",
       "late_aircraft_delay        0.422909             1.000000  "
      ]
     },
     "execution_count": 47,
     "metadata": {},
     "output_type": "execute_result"
    }
   ],
   "source": [
    "df3_corr.corr()"
   ]
  },
  {
   "cell_type": "code",
   "execution_count": 56,
   "metadata": {
    "collapsed": false
   },
   "outputs": [],
   "source": [
    "import matplotlib.pyplot as plot\n",
    "%matplotlib inline\n",
    "arr_flights=df3['arr_flights']\n",
    "arr_delay=df3[' arr_delay']"
   ]
  },
  {
   "cell_type": "code",
   "execution_count": 66,
   "metadata": {
    "collapsed": false
   },
   "outputs": [
    {
     "data": {
      "image/png": "[encoded data removed]",
      "text/plain": [
       "<matplotlib.figure.Figure at 0x282e2a75710>"
      ]
     },
     "metadata": {},
     "output_type": "display_data"
    }
   ],
   "source": [
    "#correlation in between the number of arriving flights and the number of delay\n",
    "plot.scatter(arr_flights,arr_delay)\n",
    "plot.xlabel=\"Number of arrivals of a carrier at a given airport\"\n",
    "plot.ylabel=\"Number of delay of a carrier at a given airport\""
   ]
  },
  {
   "cell_type": "code",
   "execution_count": 58,
   "metadata": {
    "collapsed": true
   },
   "outputs": [],
   "source": [
    "#what about the number of delay against duration (minutes) of delays?\n",
    "carrier_delay = df3['carrier_delay']"
   ]
  },
  {
   "cell_type": "code",
   "execution_count": 59,
   "metadata": {
    "collapsed": false
   },
   "outputs": [
    {
     "data": {
      "text/plain": [
       "<matplotlib.collections.PathCollection at 0x282e285ca58>"
      ]
     },
     "execution_count": 59,
     "metadata": {},
     "output_type": "execute_result"
    },
    {
     "data": {
      "image/png": "[encoded data removed]",
      "text/plain": [
       "<matplotlib.figure.Figure at 0x282e1831d30>"
      ]
     },
     "metadata": {},
     "output_type": "display_data"
    }
   ],
   "source": [
    "plot.scatter(arr_flights,carrier_delay)"
   ]
  },
  {
   "cell_type": "code",
   "execution_count": 78,
   "metadata": {
    "collapsed": false
   },
   "outputs": [
    {
     "data": {
      "text/plain": [
       "0       AA\n",
       "1       AA\n",
       "2       AA\n",
       "3       AA\n",
       "4       AA\n",
       "5       AA\n",
       "6       AA\n",
       "7       AA\n",
       "8       AA\n",
       "9       AA\n",
       "10      AA\n",
       "11      AA\n",
       "12      AA\n",
       "13      AA\n",
       "14      AA\n",
       "15      AA\n",
       "16      AA\n",
       "17      AA\n",
       "18      AA\n",
       "19      AA\n",
       "20      AA\n",
       "21      AA\n",
       "22      AA\n",
       "23      AA\n",
       "24      AA\n",
       "25      AA\n",
       "26      AA\n",
       "27      AA\n",
       "28      AA\n",
       "29      AA\n",
       "        ..\n",
       "3680    UA\n",
       "3681    UA\n",
       "3682    UA\n",
       "3683    UA\n",
       "3684    UA\n",
       "3685    UA\n",
       "3686    UA\n",
       "3687    UA\n",
       "3688    UA\n",
       "3689    UA\n",
       "3690    UA\n",
       "3691    UA\n",
       "3692    UA\n",
       "3693    UA\n",
       "3694    UA\n",
       "3695    UA\n",
       "3696    UA\n",
       "3697    UA\n",
       "3698    UA\n",
       "3699    UA\n",
       "3700    UA\n",
       "3701    UA\n",
       "3702    UA\n",
       "3703    UA\n",
       "3704    UA\n",
       "3705    UA\n",
       "3706    UA\n",
       "3707    UA\n",
       "3708    UA\n",
       "3709    UA\n",
       "Name: carrier, dtype: object"
      ]
     },
     "execution_count": 78,
     "metadata": {},
     "output_type": "execute_result"
    }
   ],
   "source": [
    "#It will be good to know which airlines (UA, AA, DL) are each observations\n",
    "carrier = df3['carrier']\n",
    "carrier"
   ]
  },
  {
   "cell_type": "code",
   "execution_count": 80,
   "metadata": {
    "collapsed": false
   },
   "outputs": [],
   "source": [
    "df_carrier_delay = pd.DataFrame(dict(arr_flights=arr_flights,carrier_delay=carrier_delay,carrier=carrier))"
   ]
  },
  {
   "cell_type": "code",
   "execution_count": 81,
   "metadata": {
    "collapsed": true
   },
   "outputs": [],
   "source": [
    "colors = {'UA':'blue', 'AA':'green','DL':'red'}"
   ]
  },
  {
   "cell_type": "code",
   "execution_count": 86,
   "metadata": {
    "collapsed": false
   },
   "outputs": [],
   "source": [
    "#fig, ax = plot.subplot()"
   ]
  },
  {
   "cell_type": "code",
   "execution_count": 87,
   "metadata": {
    "collapsed": false
   },
   "outputs": [
    {
     "data": {
      "image/png": "[encoded data removed]",
      "text/plain": [
       "<matplotlib.figure.Figure at 0x282e2bc1358>"
      ]
     },
     "metadata": {},
     "output_type": "display_data"
    }
   ],
   "source": [
    "#Now we can see which observation belongs to which carrier\n",
    "plot.scatter(df_carrier_delay['arr_flights'],df_carrier_delay['carrier_delay'],\n",
    "             c=df_carrier_delay['carrier'].apply(lambda x:colors[x]))\n",
    "plot.xlabel=\"Number of arrival flights by a carrier at a given airport /n at a given month\""
   ]
  },
  {
   "cell_type": "code",
   "execution_count": 91,
   "metadata": {
    "collapsed": false
   },
   "outputs": [],
   "source": [
    "#we are also interested to measure the numbers and duration of delays in between carriers at certain airport\n",
    "#to see which carrier has the greatest delay\n",
    "#let us pick an arbitraty airport that is not a major hub of either UA, AA, or DL\n",
    "\n",
    "#let us choose Portland International Airport = PDX\n",
    "\n",
    "pdx = df3[df3['airport'] == \"PDX\"]"
   ]
  },
  {
   "cell_type": "code",
   "execution_count": 94,
   "metadata": {
    "collapsed": false
   },
   "outputs": [
    {
     "data": {
      "text/html": [
       "<div>\n",
       "<table border=\"1\" class=\"dataframe\">\n",
       "  <thead>\n",
       "    <tr style=\"text-align: right;\">\n",
       "      <th></th>\n",
       "      <th>year</th>\n",
       "      <th>month</th>\n",
       "      <th>arr_flights</th>\n",
       "      <th>arr_del15</th>\n",
       "      <th>arr_cancelled</th>\n",
       "      <th>arr_diverted</th>\n",
       "      <th>arr_delay</th>\n",
       "      <th>carrier_delay</th>\n",
       "      <th>weather_delay</th>\n",
       "      <th>nas_delay</th>\n",
       "      <th>security_delay</th>\n",
       "      <th>late_aircraft_delay</th>\n",
       "    </tr>\n",
       "  </thead>\n",
       "  <tbody>\n",
       "    <tr>\n",
       "      <th>count</th>\n",
       "      <td>36.0</td>\n",
       "      <td>36.00000</td>\n",
       "      <td>36.000000</td>\n",
       "      <td>36.000000</td>\n",
       "      <td>36.000000</td>\n",
       "      <td>36.000000</td>\n",
       "      <td>36.000000</td>\n",
       "      <td>36.000000</td>\n",
       "      <td>36.000000</td>\n",
       "      <td>36.000000</td>\n",
       "      <td>36.000000</td>\n",
       "      <td>36.000000</td>\n",
       "    </tr>\n",
       "    <tr>\n",
       "      <th>mean</th>\n",
       "      <td>2015.0</td>\n",
       "      <td>6.50000</td>\n",
       "      <td>412.000000</td>\n",
       "      <td>73.305556</td>\n",
       "      <td>1.777778</td>\n",
       "      <td>0.861111</td>\n",
       "      <td>4134.583333</td>\n",
       "      <td>1695.055556</td>\n",
       "      <td>247.972222</td>\n",
       "      <td>544.138889</td>\n",
       "      <td>6.138889</td>\n",
       "      <td>1641.277778</td>\n",
       "    </tr>\n",
       "    <tr>\n",
       "      <th>std</th>\n",
       "      <td>0.0</td>\n",
       "      <td>3.50102</td>\n",
       "      <td>162.847519</td>\n",
       "      <td>40.207902</td>\n",
       "      <td>2.799093</td>\n",
       "      <td>1.198875</td>\n",
       "      <td>2704.484428</td>\n",
       "      <td>1029.981690</td>\n",
       "      <td>182.708274</td>\n",
       "      <td>360.082780</td>\n",
       "      <td>21.306140</td>\n",
       "      <td>1405.213306</td>\n",
       "    </tr>\n",
       "    <tr>\n",
       "      <th>min</th>\n",
       "      <td>2015.0</td>\n",
       "      <td>1.00000</td>\n",
       "      <td>104.000000</td>\n",
       "      <td>9.000000</td>\n",
       "      <td>0.000000</td>\n",
       "      <td>0.000000</td>\n",
       "      <td>351.000000</td>\n",
       "      <td>107.000000</td>\n",
       "      <td>0.000000</td>\n",
       "      <td>0.000000</td>\n",
       "      <td>0.000000</td>\n",
       "      <td>244.000000</td>\n",
       "    </tr>\n",
       "    <tr>\n",
       "      <th>25%</th>\n",
       "      <td>2015.0</td>\n",
       "      <td>3.75000</td>\n",
       "      <td>324.500000</td>\n",
       "      <td>49.500000</td>\n",
       "      <td>0.000000</td>\n",
       "      <td>0.000000</td>\n",
       "      <td>2199.000000</td>\n",
       "      <td>947.500000</td>\n",
       "      <td>116.250000</td>\n",
       "      <td>331.750000</td>\n",
       "      <td>0.000000</td>\n",
       "      <td>723.750000</td>\n",
       "    </tr>\n",
       "    <tr>\n",
       "      <th>50%</th>\n",
       "      <td>2015.0</td>\n",
       "      <td>6.50000</td>\n",
       "      <td>432.500000</td>\n",
       "      <td>66.000000</td>\n",
       "      <td>0.500000</td>\n",
       "      <td>0.000000</td>\n",
       "      <td>3362.500000</td>\n",
       "      <td>1588.500000</td>\n",
       "      <td>198.000000</td>\n",
       "      <td>514.500000</td>\n",
       "      <td>0.000000</td>\n",
       "      <td>1217.500000</td>\n",
       "    </tr>\n",
       "    <tr>\n",
       "      <th>75%</th>\n",
       "      <td>2015.0</td>\n",
       "      <td>9.25000</td>\n",
       "      <td>531.000000</td>\n",
       "      <td>95.250000</td>\n",
       "      <td>2.000000</td>\n",
       "      <td>1.000000</td>\n",
       "      <td>4796.250000</td>\n",
       "      <td>2160.000000</td>\n",
       "      <td>383.000000</td>\n",
       "      <td>652.750000</td>\n",
       "      <td>0.000000</td>\n",
       "      <td>1853.000000</td>\n",
       "    </tr>\n",
       "    <tr>\n",
       "      <th>max</th>\n",
       "      <td>2015.0</td>\n",
       "      <td>12.00000</td>\n",
       "      <td>711.000000</td>\n",
       "      <td>195.000000</td>\n",
       "      <td>11.000000</td>\n",
       "      <td>4.000000</td>\n",
       "      <td>13522.000000</td>\n",
       "      <td>4850.000000</td>\n",
       "      <td>749.000000</td>\n",
       "      <td>1610.000000</td>\n",
       "      <td>122.000000</td>\n",
       "      <td>6313.000000</td>\n",
       "    </tr>\n",
       "  </tbody>\n",
       "</table>\n",
       "</div>"
      ],
      "text/plain": [
       "         year     month  arr_flights   arr_del15  arr_cancelled  arr_diverted  \\\n",
       "count    36.0  36.00000    36.000000   36.000000      36.000000     36.000000   \n",
       "mean   2015.0   6.50000   412.000000   73.305556       1.777778      0.861111   \n",
       "std       0.0   3.50102   162.847519   40.207902       2.799093      1.198875   \n",
       "min    2015.0   1.00000   104.000000    9.000000       0.000000      0.000000   \n",
       "25%    2015.0   3.75000   324.500000   49.500000       0.000000      0.000000   \n",
       "50%    2015.0   6.50000   432.500000   66.000000       0.500000      0.000000   \n",
       "75%    2015.0   9.25000   531.000000   95.250000       2.000000      1.000000   \n",
       "max    2015.0  12.00000   711.000000  195.000000      11.000000      4.000000   \n",
       "\n",
       "          arr_delay  carrier_delay  weather_delay    nas_delay  \\\n",
       "count     36.000000      36.000000      36.000000    36.000000   \n",
       "mean    4134.583333    1695.055556     247.972222   544.138889   \n",
       "std     2704.484428    1029.981690     182.708274   360.082780   \n",
       "min      351.000000     107.000000       0.000000     0.000000   \n",
       "25%     2199.000000     947.500000     116.250000   331.750000   \n",
       "50%     3362.500000    1588.500000     198.000000   514.500000   \n",
       "75%     4796.250000    2160.000000     383.000000   652.750000   \n",
       "max    13522.000000    4850.000000     749.000000  1610.000000   \n",
       "\n",
       "       security_delay  late_aircraft_delay  \n",
       "count       36.000000            36.000000  \n",
       "mean         6.138889          1641.277778  \n",
       "std         21.306140          1405.213306  \n",
       "min          0.000000           244.000000  \n",
       "25%          0.000000           723.750000  \n",
       "50%          0.000000          1217.500000  \n",
       "75%          0.000000          1853.000000  \n",
       "max        122.000000          6313.000000  "
      ]
     },
     "execution_count": 94,
     "metadata": {},
     "output_type": "execute_result"
    }
   ],
   "source": [
    "pdx.describe()"
   ]
  },
  {
   "cell_type": "code",
   "execution_count": 116,
   "metadata": {
    "collapsed": false
   },
   "outputs": [],
   "source": [
    "pdx_carrier=pdx['carrier']\n",
    "pdx_arr_delay=pdx[' arr_delay']"
   ]
  },
  {
   "cell_type": "code",
   "execution_count": 126,
   "metadata": {
    "collapsed": false
   },
   "outputs": [],
   "source": [
    "pdx_frame = [pdx_carrier, pdx_arr_delay]"
   ]
  },
  {
   "cell_type": "code",
   "execution_count": 127,
   "metadata": {
    "collapsed": true
   },
   "outputs": [],
   "source": [
    "pdf_result = pd.concat(pdx_frame, axis=1)"
   ]
  },
  {
   "cell_type": "code",
   "execution_count": 157,
   "metadata": {
    "collapsed": false
   },
   "outputs": [
    {
     "data": {
      "text/plain": [
       "<matplotlib.axes._subplots.AxesSubplot at 0x282e3044a58>"
      ]
     },
     "execution_count": 157,
     "metadata": {},
     "output_type": "execute_result"
    },
    {
     "data": {
      "image/png": "[encoded data removed]",
      "text/plain": [
       "<matplotlib.figure.Figure at 0x282e3051908>"
      ]
     },
     "metadata": {},
     "output_type": "display_data"
    }
   ],
   "source": [
    "pdf_result.plot(color='red')"
   ]
  },
  {
   "cell_type": "code",
   "execution_count": 160,
   "metadata": {
    "collapsed": false
   },
   "outputs": [
    {
     "data": {
      "text/plain": [
       "<matplotlib.figure.Figure at 0x282e30c38d0>"
      ]
     },
     "metadata": {},
     "output_type": "display_data"
    }
   ],
   "source": [
    "fig =plot.figure()"
   ]
  },
  {
   "cell_type": "code",
   "execution_count": 165,
   "metadata": {
    "collapsed": false
   },
   "outputs": [],
   "source": [
    "pdf_result.to_csv(\"delay_at_pdx\", sep='\\t')"
   ]
  },
  {
   "cell_type": "code",
   "execution_count": null,
   "metadata": {
    "collapsed": true
   },
   "outputs": [],
   "source": []
  }
 ],
 "metadata": {
  "kernelspec": {
   "display_name": "Python 3",
   "language": "python",
   "name": "python3"
  },
  "language_info": {
   "codemirror_mode": {
    "name": "ipython",
    "version": 3
   },
   "file_extension": ".py",
   "mimetype": "text/x-python",
   "name": "python",
   "nbconvert_exporter": "python",
   "pygments_lexer": "ipython3",
   "version": "3.5.1"
  }
 },
 "nbformat": 4,
 "nbformat_minor": 0
}
